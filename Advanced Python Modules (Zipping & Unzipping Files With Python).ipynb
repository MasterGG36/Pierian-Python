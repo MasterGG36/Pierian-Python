{
 "cells": [
  {
   "cell_type": "code",
   "execution_count": 13,
   "id": "cedc4e79",
   "metadata": {},
   "outputs": [],
   "source": [
    "# File 1\n",
    "f = open('fileone.txt','w+')\n",
    "f.write('One file.')\n",
    "f.close()"
   ]
  },
  {
   "cell_type": "code",
   "execution_count": 14,
   "id": "5506d8e8",
   "metadata": {},
   "outputs": [],
   "source": [
    "# File 2\n",
    "f = open('filetwo.txt','w+')\n",
    "f.write('Two file.')\n",
    "f.close()"
   ]
  },
  {
   "cell_type": "code",
   "execution_count": 15,
   "id": "0a8f4eec",
   "metadata": {},
   "outputs": [],
   "source": [
    "# Creates a zip file\n",
    "import zipfile"
   ]
  },
  {
   "cell_type": "code",
   "execution_count": 16,
   "id": "82b3c354",
   "metadata": {},
   "outputs": [],
   "source": [
    "comp_file = zipfile.ZipFile('comp_file.zip','w')"
   ]
  },
  {
   "cell_type": "code",
   "execution_count": 17,
   "id": "e8d1d19d",
   "metadata": {},
   "outputs": [],
   "source": [
    "# Now we compress the .txt files and place them in the .zip file"
   ]
  },
  {
   "cell_type": "code",
   "execution_count": 18,
   "id": "f24330a4",
   "metadata": {},
   "outputs": [],
   "source": [
    "# Take your compressed file, and then you write to it.(the other thing you need to specify is compress_type)\n",
    "comp_file.write('fileone.txt',compress_type=zipfile.ZIP_DEFLATED)"
   ]
  },
  {
   "cell_type": "code",
   "execution_count": 19,
   "id": "48136cf3",
   "metadata": {},
   "outputs": [],
   "source": [
    "# Its grab the .txt file and compressed & written it to this .zip file. \n",
    "comp_file.write('filetwo.txt',compress_type=zipfile.ZIP_DEFLATED)"
   ]
  },
  {
   "cell_type": "code",
   "execution_count": 20,
   "id": "7b80ec40",
   "metadata": {},
   "outputs": [],
   "source": [
    "# Now .zip file has compressed versions of 'fileone.txt' & 'filetwo.txt'."
   ]
  },
  {
   "cell_type": "code",
   "execution_count": 21,
   "id": "f2c94a27",
   "metadata": {},
   "outputs": [],
   "source": [
    "# Once you are done using that file.\n",
    "comp_file.close()"
   ]
  },
  {
   "cell_type": "code",
   "execution_count": 22,
   "id": "d6799cbb",
   "metadata": {},
   "outputs": [],
   "source": [
    "# How to extract the items from a zip file\n",
    "# Create a variable\n",
    "zip_object = zipfile.ZipFile('comp_file.zip','r') # Point to the zip file you want to extract from.(Since we are extracting we set mode to 'r')"
   ]
  },
  {
   "cell_type": "code",
   "execution_count": 23,
   "id": "6b811e31",
   "metadata": {},
   "outputs": [],
   "source": [
    "# You have two options.\n",
    "# zip_object.extract() # For one specific file\n",
    "zip_object.extractall('extracted_content') # For multiple files"
   ]
  },
  {
   "cell_type": "code",
   "execution_count": 26,
   "id": "c1ceda43",
   "metadata": {},
   "outputs": [],
   "source": [
    "# We have taken the contents of the .zip file in 'r' and extracted them to a folder called 'extracted_contents' \n",
    "# Built in zipfile library with python."
   ]
  },
  {
   "cell_type": "code",
   "execution_count": 27,
   "id": "ca7b95b7",
   "metadata": {},
   "outputs": [],
   "source": [
    "import shutil"
   ]
  },
  {
   "cell_type": "code",
   "execution_count": 28,
   "id": "6daff37f",
   "metadata": {},
   "outputs": [],
   "source": [
    "# Unlike before we are going to compress an entire folder rather than one file at a time.\n",
    "dir_to_zip = '/Users/lesegoselela/extracted_content/'"
   ]
  },
  {
   "cell_type": "code",
   "execution_count": 29,
   "id": "6f5ad0e3",
   "metadata": {},
   "outputs": [],
   "source": [
    "# Now we are going to give a output file name\n",
    "output_filename = 'example'"
   ]
  },
  {
   "cell_type": "code",
   "execution_count": 30,
   "id": "4ef854b8",
   "metadata": {},
   "outputs": [
    {
     "data": {
      "text/plain": [
       "'/Users/lesegoselela/example.zip'"
      ]
     },
     "execution_count": 30,
     "metadata": {},
     "output_type": "execute_result"
    }
   ],
   "source": [
    "# Then we call shell utility.make_archive\n",
    "shutil.make_archive(output_filename,'zip',dir_to_zip) # This accepts the output file.(then the second parameter format and directory to zip)"
   ]
  },
  {
   "cell_type": "code",
   "execution_count": 31,
   "id": "0d3b0ed4",
   "metadata": {},
   "outputs": [],
   "source": [
    "# How to actually extract the contents from a zip file.\n",
    "shutil.unpack_archive('example.zip','final_unzip','zip')"
   ]
  },
  {
   "cell_type": "code",
   "execution_count": null,
   "id": "c03eab84",
   "metadata": {},
   "outputs": [],
   "source": []
  }
 ],
 "metadata": {
  "kernelspec": {
   "display_name": "Python 3 (ipykernel)",
   "language": "python",
   "name": "python3"
  },
  "language_info": {
   "codemirror_mode": {
    "name": "ipython",
    "version": 3
   },
   "file_extension": ".py",
   "mimetype": "text/x-python",
   "name": "python",
   "nbconvert_exporter": "python",
   "pygments_lexer": "ipython3",
   "version": "3.9.13"
  }
 },
 "nbformat": 4,
 "nbformat_minor": 5
}
