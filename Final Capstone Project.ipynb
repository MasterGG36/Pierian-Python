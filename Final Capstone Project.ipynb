{
 "cells": [
  {
   "cell_type": "code",
   "execution_count": 39,
   "id": "a4dfa5df",
   "metadata": {},
   "outputs": [],
   "source": [
    "\"\"\"\n",
    "    Title: Bank Account Manager ATM\n",
    "    Author: Lesego Selela \n",
    "\"\"\"\n",
    "class Account():\n",
    "    \n",
    "    def __init__(self,owner,balance):\n",
    "        \n",
    "        self.owner = owner\n",
    "        self.balance = balance\n",
    "        \n",
    "    def deposit(self,deposit_amount):\n",
    "        \n",
    "        self.balance = self.balance + deposit_amount\n",
    "        # Can use either f string literal or .format\n",
    "        print(\"Added {} to the balance\".format(deposit_amount))\n",
    "        \n",
    "    def withdrawal(self,withdrawal_amount):\n",
    "        \n",
    "        if self.balance >= withdrawal_amount:\n",
    "            self.balance = self.balance - withdrawal_amount\n",
    "            print(\"Withdrawal Accepted\")\n",
    "        else:\n",
    "            print(\"Funds Unavailable!\")\n",
    "            \n",
    "    def __str__(self):\n",
    "        return f\"Owner: {self.owner} \\nBalance: {self.balance}\""
   ]
  },
  {
   "cell_type": "code",
   "execution_count": 40,
   "id": "9a9d4dd7",
   "metadata": {},
   "outputs": [],
   "source": [
    "acct1 = Account('Lesego',100)"
   ]
  },
  {
   "cell_type": "code",
   "execution_count": 41,
   "id": "b6b2bdbf",
   "metadata": {},
   "outputs": [
    {
     "name": "stdout",
     "output_type": "stream",
     "text": [
      "Owner: Lesego \n",
      "Balance: 100\n"
     ]
    }
   ],
   "source": [
    "print(acct1)"
   ]
  },
  {
   "cell_type": "code",
   "execution_count": 42,
   "id": "fbc47658",
   "metadata": {},
   "outputs": [
    {
     "data": {
      "text/plain": [
       "'Lesego'"
      ]
     },
     "execution_count": 42,
     "metadata": {},
     "output_type": "execute_result"
    }
   ],
   "source": [
    "acct1.owner"
   ]
  },
  {
   "cell_type": "code",
   "execution_count": 43,
   "id": "cb295451",
   "metadata": {},
   "outputs": [
    {
     "data": {
      "text/plain": [
       "100"
      ]
     },
     "execution_count": 43,
     "metadata": {},
     "output_type": "execute_result"
    }
   ],
   "source": [
    "acct1.balance"
   ]
  },
  {
   "cell_type": "code",
   "execution_count": 44,
   "id": "565afb3f",
   "metadata": {},
   "outputs": [
    {
     "name": "stdout",
     "output_type": "stream",
     "text": [
      "Added 50 to the balance\n"
     ]
    }
   ],
   "source": [
    "acct1.deposit(50)"
   ]
  },
  {
   "cell_type": "code",
   "execution_count": 45,
   "id": "f2491595",
   "metadata": {},
   "outputs": [
    {
     "data": {
      "text/plain": [
       "150"
      ]
     },
     "execution_count": 45,
     "metadata": {},
     "output_type": "execute_result"
    }
   ],
   "source": [
    "acct1.balance"
   ]
  },
  {
   "cell_type": "code",
   "execution_count": 47,
   "id": "6642c58b",
   "metadata": {},
   "outputs": [
    {
     "name": "stdout",
     "output_type": "stream",
     "text": [
      "Withdrawal Accepted\n"
     ]
    }
   ],
   "source": [
    "acct1.withdrawal(75)"
   ]
  },
  {
   "cell_type": "code",
   "execution_count": 48,
   "id": "f2f8a821",
   "metadata": {},
   "outputs": [
    {
     "data": {
      "text/plain": [
       "75"
      ]
     },
     "execution_count": 48,
     "metadata": {},
     "output_type": "execute_result"
    }
   ],
   "source": [
    "acct1.balance"
   ]
  },
  {
   "cell_type": "code",
   "execution_count": null,
   "id": "a801a9e3",
   "metadata": {},
   "outputs": [],
   "source": []
  }
 ],
 "metadata": {
  "kernelspec": {
   "display_name": "Python 3 (ipykernel)",
   "language": "python",
   "name": "python3"
  },
  "language_info": {
   "codemirror_mode": {
    "name": "ipython",
    "version": 3
   },
   "file_extension": ".py",
   "mimetype": "text/x-python",
   "name": "python",
   "nbconvert_exporter": "python",
   "pygments_lexer": "ipython3",
   "version": "3.9.13"
  }
 },
 "nbformat": 4,
 "nbformat_minor": 5
}
