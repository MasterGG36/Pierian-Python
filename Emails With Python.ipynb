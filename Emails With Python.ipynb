{
 "cells": [
  {
   "cell_type": "code",
   "execution_count": 1,
   "id": "0b45c6bc",
   "metadata": {},
   "outputs": [],
   "source": [
    "import smtplib"
   ]
  },
  {
   "cell_type": "code",
   "execution_count": 2,
   "id": "d9d156d4",
   "metadata": {},
   "outputs": [],
   "source": [
    "smtp_object = smtplib.SMTP('smtp.gmail.com',587) # Also port number 587/465 or not passing a number."
   ]
  },
  {
   "cell_type": "code",
   "execution_count": 3,
   "id": "5ff210fc",
   "metadata": {},
   "outputs": [
    {
     "data": {
      "text/plain": [
       "(250,\n",
       " b'smtp.gmail.com at your service, [102.22.194.122]\\nSIZE 35882577\\n8BITMIME\\nSTARTTLS\\nENHANCEDSTATUSCODES\\nPIPELINING\\nCHUNKING\\nSMTPUTF8')"
      ]
     },
     "execution_count": 3,
     "metadata": {},
     "output_type": "execute_result"
    }
   ],
   "source": [
    "smtp_object.ehlo() # Greets the server."
   ]
  },
  {
   "cell_type": "code",
   "execution_count": 4,
   "id": "6d68a196",
   "metadata": {},
   "outputs": [
    {
     "data": {
      "text/plain": [
       "(220, b'2.0.0 Ready to start TLS')"
      ]
     },
     "execution_count": 4,
     "metadata": {},
     "output_type": "execute_result"
    }
   ],
   "source": [
    "smtp_object.starttls() # If you used port 465 you may skip this step."
   ]
  },
  {
   "cell_type": "code",
   "execution_count": 5,
   "id": "341be981",
   "metadata": {},
   "outputs": [
    {
     "name": "stdout",
     "output_type": "stream",
     "text": [
      "What is your password?:msddsdvfvsdvvsdvsvds\n"
     ]
    }
   ],
   "source": [
    "# Set up the email & Password.\n",
    "# Note: Should never save the raw string of your password or email in a script.(Anyone who sees this script, will be able to see your email & password)\n",
    "# Use the input() to get that info.\n",
    "# getpass that will hide your password\n",
    "password = input(\"What is your password?:\")"
   ]
  },
  {
   "cell_type": "code",
   "execution_count": 6,
   "id": "36fe49ab",
   "metadata": {},
   "outputs": [],
   "source": [
    "# Password will be visible to users\n",
    "import getpass"
   ]
  },
  {
   "cell_type": "code",
   "execution_count": 7,
   "id": "bef68e98",
   "metadata": {},
   "outputs": [
    {
     "name": "stdout",
     "output_type": "stream",
     "text": [
      "Password:········\n"
     ]
    }
   ],
   "source": [
    "password = getpass.getpass(\"Password:\") # More secure way."
   ]
  },
  {
   "cell_type": "code",
   "execution_count": 8,
   "id": "dd03670b",
   "metadata": {},
   "outputs": [
    {
     "name": "stdout",
     "output_type": "stream",
     "text": [
      "Email: ········\n",
      "Password: ········\n"
     ]
    },
    {
     "data": {
      "text/plain": [
       "(235, b'2.7.0 Accepted')"
      ]
     },
     "execution_count": 8,
     "metadata": {},
     "output_type": "execute_result"
    }
   ],
   "source": [
    "# You will notice now that the password is invisible\n",
    "# Second step specific to gmail users.\n",
    "email = getpass.getpass(\"Email: \")\n",
    "password = getpass.getpass(\"Password: \")\n",
    "smtp_object.login(email,password)"
   ]
  },
  {
   "cell_type": "code",
   "execution_count": 9,
   "id": "10097a05",
   "metadata": {},
   "outputs": [
    {
     "name": "stdout",
     "output_type": "stream",
     "text": [
      "Please enter your email: ········\n",
      "Please enter your password: ········\n"
     ]
    },
    {
     "data": {
      "text/plain": [
       "(235, b'2.7.0 Accepted')"
      ]
     },
     "execution_count": 9,
     "metadata": {},
     "output_type": "execute_result"
    }
   ],
   "source": [
    "# Paste in app password\n",
    "smtp_object = smtplib.SMTP('smtp.gmail.com',587)\n",
    "smtp_object.ehlo()\n",
    "smtp_object.starttls()\n",
    "email = getpass.getpass('Please enter your email: ')\n",
    "password = getpass.getpass('Please enter your password: ')\n",
    "smtp_object.login(email,password)"
   ]
  },
  {
   "cell_type": "code",
   "execution_count": 10,
   "id": "404e39f5",
   "metadata": {},
   "outputs": [
    {
     "name": "stdout",
     "output_type": "stream",
     "text": [
      "Enter the subject line: Im testing my python email\n",
      "Type out the message you want to send: Hello this is a test\n"
     ]
    },
    {
     "data": {
      "text/plain": [
       "{}"
      ]
     },
     "execution_count": 10,
     "metadata": {},
     "output_type": "execute_result"
    }
   ],
   "source": [
    "# Sending email\n",
    "from_address = email\n",
    "to_address = email\n",
    "subject = input(\"Enter the subject line: \")\n",
    "message = input(\"Type out the message you want to send: \")\n",
    "msg = \"Subject: \" + subject + '\\n' + message\n",
    "smtp_object.sendmail(from_address,to_address,msg)"
   ]
  },
  {
   "cell_type": "code",
   "execution_count": 11,
   "id": "2653a6d3",
   "metadata": {},
   "outputs": [
    {
     "data": {
      "text/plain": [
       "(221,\n",
       " b'2.0.0 closing connection l4-20020a1ced04000000b003fe61c33df5sm23836180wmh.3 - gsmtp')"
      ]
     },
     "execution_count": 11,
     "metadata": {},
     "output_type": "execute_result"
    }
   ],
   "source": [
    "# If you get back an empty dictionary, then sending successful\n",
    "smtp_object.quit()"
   ]
  },
  {
   "cell_type": "code",
   "execution_count": 1,
   "id": "adda35c3",
   "metadata": {},
   "outputs": [],
   "source": [
    "# Received emails.\n",
    "# Explore inbox with python.\n",
    "import imaplib"
   ]
  },
  {
   "cell_type": "code",
   "execution_count": 2,
   "id": "f57752fb",
   "metadata": {},
   "outputs": [],
   "source": [
    "M = imaplib.IMAP4_SSL('imap.gmail.com') # Create an instance of it."
   ]
  },
  {
   "cell_type": "code",
   "execution_count": 3,
   "id": "ced8a067",
   "metadata": {},
   "outputs": [],
   "source": [
    "import getpass"
   ]
  },
  {
   "cell_type": "code",
   "execution_count": 4,
   "id": "51d49744",
   "metadata": {},
   "outputs": [
    {
     "name": "stdout",
     "output_type": "stream",
     "text": [
      "Enter your email: lesego.selela@gmail.com\n",
      "Enter your password: ········\n"
     ]
    }
   ],
   "source": [
    "Lesegos_email = input(\"Enter your email: \")\n",
    "password = getpass.getpass(\"Enter your password: \")"
   ]
  },
  {
   "cell_type": "code",
   "execution_count": 6,
   "id": "4a8a872e",
   "metadata": {},
   "outputs": [
    {
     "data": {
      "text/plain": [
       "('OK', [b'lesego.selela@gmail.com authenticated (Success)'])"
      ]
     },
     "execution_count": 6,
     "metadata": {},
     "output_type": "execute_result"
    }
   ],
   "source": [
    "M.login(Lesegos_email,password)"
   ]
  },
  {
   "cell_type": "code",
   "execution_count": 7,
   "id": "2aecedd4",
   "metadata": {},
   "outputs": [
    {
     "data": {
      "text/plain": [
       "('OK',\n",
       " [b'(\\\\HasNoChildren) \"/\" \"INBOX\"',\n",
       "  b'(\\\\HasNoChildren) \"/\" \"Trash\"',\n",
       "  b'(\\\\HasNoChildren) \"/\" \"Unwanted\"',\n",
       "  b'(\\\\HasChildren \\\\Noselect) \"/\" \"[Gmail]\"',\n",
       "  b'(\\\\All \\\\HasNoChildren) \"/\" \"[Gmail]/All Mail\"',\n",
       "  b'(\\\\HasNoChildren \\\\Trash) \"/\" \"[Gmail]/Bin\"',\n",
       "  b'(\\\\Drafts \\\\HasNoChildren) \"/\" \"[Gmail]/Drafts\"',\n",
       "  b'(\\\\HasNoChildren \\\\Important) \"/\" \"[Gmail]/Important\"',\n",
       "  b'(\\\\HasNoChildren \\\\Sent) \"/\" \"[Gmail]/Sent Mail\"',\n",
       "  b'(\\\\HasNoChildren \\\\Junk) \"/\" \"[Gmail]/Spam\"',\n",
       "  b'(\\\\Flagged \\\\HasNoChildren) \"/\" \"[Gmail]/Starred\"'])"
      ]
     },
     "execution_count": 7,
     "metadata": {},
     "output_type": "execute_result"
    }
   ],
   "source": [
    "M.list()"
   ]
  },
  {
   "cell_type": "code",
   "execution_count": 8,
   "id": "28f80b47",
   "metadata": {},
   "outputs": [
    {
     "data": {
      "text/plain": [
       "('OK', [b'20288'])"
      ]
     },
     "execution_count": 8,
     "metadata": {},
     "output_type": "execute_result"
    }
   ],
   "source": [
    "M.select(\"inbox\")"
   ]
  },
  {
   "cell_type": "code",
   "execution_count": 9,
   "id": "81bd7864",
   "metadata": {},
   "outputs": [],
   "source": [
    "# Search our inbox \n",
    "typ, data = M.search(None,'SUBJECT \"Im testing my python email\"') # Notice its a string inside of a string."
   ]
  },
  {
   "cell_type": "code",
   "execution_count": 10,
   "id": "444ba475",
   "metadata": {},
   "outputs": [
    {
     "data": {
      "text/plain": [
       "'OK'"
      ]
     },
     "execution_count": 10,
     "metadata": {},
     "output_type": "execute_result"
    }
   ],
   "source": [
    "# If you select typ it should say 'OK'\n",
    "typ"
   ]
  },
  {
   "cell_type": "code",
   "execution_count": 11,
   "id": "f8f8c5fb",
   "metadata": {},
   "outputs": [
    {
     "data": {
      "text/plain": [
       "[b'20287']"
      ]
     },
     "execution_count": 11,
     "metadata": {},
     "output_type": "execute_result"
    }
   ],
   "source": [
    "# If you select data it should have some sort of number.\n",
    "data"
   ]
  },
  {
   "cell_type": "code",
   "execution_count": 12,
   "id": "10ac4223",
   "metadata": {},
   "outputs": [],
   "source": [
    "# Now we need to fetch actual data.\n",
    "email_id = data[0]"
   ]
  },
  {
   "cell_type": "code",
   "execution_count": 13,
   "id": "f4de2298",
   "metadata": {},
   "outputs": [],
   "source": [
    "result, email_data = M.fetch(email_id,'(RFC822)') # Then we fetch that particular email_id.(Secondly, we need to pass in a protocol)"
   ]
  },
  {
   "cell_type": "code",
   "execution_count": 14,
   "id": "e588ca21",
   "metadata": {},
   "outputs": [
    {
     "data": {
      "text/plain": [
       "[(b'20287 (RFC822 {586}',\n",
       "  b'Bcc: lesego.selela@gmail.com\\r\\nReturn-Path: <lesego.selela@gmail.com>\\r\\nReceived: from lesegos-air.lan ([102.22.194.122])\\r\\n        by smtp.gmail.com with ESMTPSA id l4-20020a1ced04000000b003fe61c33df5sm23836180wmh.3.2023.08.16.03.27.02\\r\\n        for <lesego.selela@gmail.com>\\r\\n        (version=TLS1_3 cipher=TLS_AES_256_GCM_SHA384 bits=256/256);\\r\\n        Wed, 16 Aug 2023 03:27:03 -0700 (PDT)\\r\\nMessage-ID: <64dca477.1c0a0220.7e8ad.c244@mx.google.com>\\r\\nDate: Wed, 16 Aug 2023 03:27:03 -0700 (PDT)\\r\\nFrom: lesego.selela@gmail.com\\r\\nSubject: Im testing my python email\\r\\n\\r\\nHello this is a test\\r\\n'),\n",
       " b')']"
      ]
     },
     "execution_count": 14,
     "metadata": {},
     "output_type": "execute_result"
    }
   ],
   "source": [
    "email_data"
   ]
  },
  {
   "cell_type": "code",
   "execution_count": 15,
   "id": "d1b5e9ed",
   "metadata": {},
   "outputs": [],
   "source": [
    "# Grab actual message itself.\n",
    "raw_email = email_data[0][1]"
   ]
  },
  {
   "cell_type": "code",
   "execution_count": 16,
   "id": "b65a7a5b",
   "metadata": {},
   "outputs": [],
   "source": [
    "raw_email_string = raw_email.decode('utf-8') # Clarify we want to decode it with ('utf-8')"
   ]
  },
  {
   "cell_type": "code",
   "execution_count": 17,
   "id": "d71b6f90",
   "metadata": {},
   "outputs": [],
   "source": [
    "# Use built-in email library to parse that string.\n",
    "import email"
   ]
  },
  {
   "cell_type": "code",
   "execution_count": 18,
   "id": "5a1ee689",
   "metadata": {},
   "outputs": [],
   "source": [
    "email_message = email.message_from_string(raw_email_string) # From the email, we will type .message_from_string."
   ]
  },
  {
   "cell_type": "code",
   "execution_count": 19,
   "id": "262f475f",
   "metadata": {},
   "outputs": [
    {
     "data": {
      "text/plain": [
       "<email.message.Message at 0x10ffe65b0>"
      ]
     },
     "execution_count": 19,
     "metadata": {},
     "output_type": "execute_result"
    }
   ],
   "source": [
    "email_message"
   ]
  },
  {
   "cell_type": "code",
   "execution_count": 20,
   "id": "02dfc9ea",
   "metadata": {},
   "outputs": [
    {
     "name": "stdout",
     "output_type": "stream",
     "text": [
      "b'Hello this is a test\\r\\n'\n"
     ]
    }
   ],
   "source": [
    "# Now we need to say.\n",
    "for part in email_message.walk(): # Walk through this email object.\n",
    "    \n",
    "    if part.get_content_type() == 'text/plain': # If you only expect plain text == 'text/plain'.('text/html' if there is a link in the email)\n",
    "        body = part.get_payload(decode=True)\n",
    "        print(body)"
   ]
  },
  {
   "cell_type": "code",
   "execution_count": null,
   "id": "914d7e3a",
   "metadata": {},
   "outputs": [],
   "source": []
  }
 ],
 "metadata": {
  "kernelspec": {
   "display_name": "Python 3 (ipykernel)",
   "language": "python",
   "name": "python3"
  },
  "language_info": {
   "codemirror_mode": {
    "name": "ipython",
    "version": 3
   },
   "file_extension": ".py",
   "mimetype": "text/x-python",
   "name": "python",
   "nbconvert_exporter": "python",
   "pygments_lexer": "ipython3",
   "version": "3.9.13"
  }
 },
 "nbformat": 4,
 "nbformat_minor": 5
}
