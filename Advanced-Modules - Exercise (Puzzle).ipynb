{
 "cells": [
  {
   "cell_type": "code",
   "execution_count": 1,
   "id": "80dbcf79",
   "metadata": {},
   "outputs": [],
   "source": [
    "# Unzip the file for instructions.\n",
    "import shutil"
   ]
  },
  {
   "cell_type": "code",
   "execution_count": 2,
   "id": "852fc210",
   "metadata": {},
   "outputs": [],
   "source": [
    "shutil.unpack_archive('unzip_me_for_instructions.zip','')"
   ]
  },
  {
   "cell_type": "code",
   "execution_count": 3,
   "id": "d1d9122e",
   "metadata": {},
   "outputs": [
    {
     "name": "stdout",
     "output_type": "stream",
     "text": [
      "Good work on unzipping the file!\n",
      "You should now see 5 folders, each with a lot of random .txt files.\n",
      "Within one of these text files is a telephone number formated ###-###-#### \n",
      "Use the Python os module and regular expressions to iterate through each file, open it, and search for a telephone number.\n",
      "Good luck!\n"
     ]
    }
   ],
   "source": [
    "# Open text file for instructions.\n",
    "with open('extracted_content/Instructions.txt') as f:\n",
    "    content = f.read()\n",
    "    print(content)"
   ]
  },
  {
   "cell_type": "code",
   "execution_count": 4,
   "id": "8bfe1ceb",
   "metadata": {},
   "outputs": [],
   "source": [
    "import re"
   ]
  },
  {
   "cell_type": "code",
   "execution_count": 5,
   "id": "4895f51b",
   "metadata": {},
   "outputs": [],
   "source": [
    "pattern = r'\\d{3}-\\d{3}-\\d{4}'"
   ]
  },
  {
   "cell_type": "code",
   "execution_count": 6,
   "id": "9d09674d",
   "metadata": {},
   "outputs": [],
   "source": [
    "# Test it against a string before use. \n",
    "test_string = \"Here is a phone number 123-123-1234\""
   ]
  },
  {
   "cell_type": "code",
   "execution_count": 7,
   "id": "04d3bed2",
   "metadata": {},
   "outputs": [
    {
     "data": {
      "text/plain": [
       "['123-123-1234']"
      ]
     },
     "execution_count": 7,
     "metadata": {},
     "output_type": "execute_result"
    }
   ],
   "source": [
    "re.findall(pattern,test_string)"
   ]
  },
  {
   "cell_type": "code",
   "execution_count": 8,
   "id": "92f924fc",
   "metadata": {},
   "outputs": [],
   "source": [
    "# Create a function to go through files to find phone number.\n",
    "def search(file,pattern = r'\\d{3}-\\d{3}-\\d{4}'): # Open up the file, and look for a pattern there\n",
    "    f = open(file,'r') \n",
    "    txt = f.read()\n",
    "    \n",
    "    if re.search(pattern,txt):\n",
    "        return re.search(pattern,txt) # If it finds it, it will return it.\n",
    "    else:\n",
    "        return 'Error'"
   ]
  },
  {
   "cell_type": "code",
   "execution_count": 9,
   "id": "c1f57cad",
   "metadata": {},
   "outputs": [],
   "source": [
    "# Walk through all the files using os module\n",
    "import os"
   ]
  },
  {
   "cell_type": "code",
   "execution_count": 11,
   "id": "df303d1d",
   "metadata": {},
   "outputs": [],
   "source": [
    "result = []"
   ]
  },
  {
   "cell_type": "code",
   "execution_count": 12,
   "id": "7ae5a10f",
   "metadata": {},
   "outputs": [],
   "source": [
    "for folder, sub_folders, files in os.walk(os.getcwd() + '/extracted_content/'): # os.walk() will make a tree and is going to look at every single thing inside of this file path location.\n",
    "    \n",
    "    for f in files: # Then go through each file.txt\n",
    "        full_path = folder + '/' + f # We are going to be calling the search() off each file, now we make sure we dont get any file path errors.\n",
    "        # In order to do that we call the folder + file.\n",
    "        result.append(search(full_path))"
   ]
  },
  {
   "cell_type": "code",
   "execution_count": 13,
   "id": "29bf3a6e",
   "metadata": {},
   "outputs": [
    {
     "data": {
      "text/plain": [
       "['Error',\n",
       " 'Error',\n",
       " 'Error',\n",
       " 'Error',\n",
       " 'Error',\n",
       " 'Error',\n",
       " 'Error',\n",
       " 'Error',\n",
       " 'Error',\n",
       " 'Error',\n",
       " 'Error',\n",
       " 'Error',\n",
       " 'Error',\n",
       " 'Error',\n",
       " 'Error',\n",
       " 'Error',\n",
       " 'Error',\n",
       " 'Error',\n",
       " 'Error',\n",
       " 'Error',\n",
       " 'Error',\n",
       " 'Error',\n",
       " 'Error',\n",
       " 'Error',\n",
       " 'Error',\n",
       " 'Error',\n",
       " 'Error',\n",
       " 'Error',\n",
       " 'Error',\n",
       " 'Error',\n",
       " 'Error',\n",
       " 'Error',\n",
       " 'Error',\n",
       " 'Error',\n",
       " 'Error',\n",
       " 'Error',\n",
       " 'Error',\n",
       " 'Error',\n",
       " 'Error',\n",
       " 'Error',\n",
       " 'Error',\n",
       " 'Error',\n",
       " 'Error',\n",
       " 'Error',\n",
       " 'Error',\n",
       " 'Error',\n",
       " 'Error',\n",
       " 'Error',\n",
       " 'Error',\n",
       " 'Error',\n",
       " 'Error',\n",
       " 'Error',\n",
       " 'Error',\n",
       " 'Error',\n",
       " 'Error',\n",
       " 'Error',\n",
       " 'Error',\n",
       " 'Error',\n",
       " 'Error',\n",
       " 'Error',\n",
       " 'Error',\n",
       " 'Error',\n",
       " 'Error',\n",
       " 'Error',\n",
       " 'Error',\n",
       " 'Error',\n",
       " 'Error',\n",
       " 'Error',\n",
       " 'Error',\n",
       " 'Error',\n",
       " 'Error',\n",
       " 'Error',\n",
       " 'Error',\n",
       " 'Error',\n",
       " 'Error',\n",
       " 'Error',\n",
       " 'Error',\n",
       " 'Error',\n",
       " 'Error',\n",
       " 'Error',\n",
       " 'Error',\n",
       " 'Error',\n",
       " 'Error',\n",
       " 'Error',\n",
       " 'Error',\n",
       " 'Error',\n",
       " 'Error',\n",
       " 'Error',\n",
       " 'Error',\n",
       " 'Error',\n",
       " 'Error',\n",
       " 'Error',\n",
       " 'Error',\n",
       " 'Error',\n",
       " 'Error',\n",
       " 'Error',\n",
       " 'Error',\n",
       " 'Error',\n",
       " 'Error',\n",
       " 'Error',\n",
       " <re.Match object; span=(1062, 1074), match='719-266-2837'>,\n",
       " 'Error',\n",
       " 'Error',\n",
       " 'Error',\n",
       " 'Error',\n",
       " 'Error',\n",
       " 'Error',\n",
       " 'Error',\n",
       " 'Error',\n",
       " 'Error',\n",
       " 'Error',\n",
       " 'Error',\n",
       " 'Error',\n",
       " 'Error',\n",
       " 'Error',\n",
       " 'Error',\n",
       " 'Error',\n",
       " 'Error',\n",
       " 'Error',\n",
       " 'Error',\n",
       " 'Error']"
      ]
     },
     "execution_count": 13,
     "metadata": {},
     "output_type": "execute_result"
    }
   ],
   "source": [
    "result"
   ]
  },
  {
   "cell_type": "code",
   "execution_count": 14,
   "id": "e156429e",
   "metadata": {},
   "outputs": [
    {
     "name": "stdout",
     "output_type": "stream",
     "text": [
      "719-266-2837\n"
     ]
    }
   ],
   "source": [
    "# To get the number and avoid the error/empty string\n",
    "for r in result:\n",
    "    if r !='Error':\n",
    "        print(r.group())"
   ]
  },
  {
   "cell_type": "code",
   "execution_count": null,
   "id": "0f1efd95",
   "metadata": {},
   "outputs": [],
   "source": []
  }
 ],
 "metadata": {
  "kernelspec": {
   "display_name": "Python 3 (ipykernel)",
   "language": "python",
   "name": "python3"
  },
  "language_info": {
   "codemirror_mode": {
    "name": "ipython",
    "version": 3
   },
   "file_extension": ".py",
   "mimetype": "text/x-python",
   "name": "python",
   "nbconvert_exporter": "python",
   "pygments_lexer": "ipython3",
   "version": "3.9.13"
  }
 },
 "nbformat": 4,
 "nbformat_minor": 5
}
