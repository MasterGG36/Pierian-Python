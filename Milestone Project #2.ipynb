{
 "cells": [
  {
   "cell_type": "code",
   "execution_count": 1,
   "id": "15adb936",
   "metadata": {},
   "outputs": [],
   "source": [
    "# Suit, Rank, Value \n",
    "# Translate 'Two' into the integer 2\n",
    "# Using dictionary of values\n",
    "import random \n",
    "\n",
    "suits = ('Hearts', 'Diamonds', 'Spades', 'Clubs')\n",
    "ranks = ('Two', 'Three', 'Four', 'Five', 'Six', 'Seven', 'Eight', 'Nine', 'Ten', 'Jack', 'Queen', 'King', 'Ace')\n",
    "values = {'Two':2, 'Three':3, 'Four':4, 'Five':5, 'Six':6, 'Seven':7, 'Eight':8, \n",
    "            'Nine':9, 'Ten':10, 'Jack':11, 'Queen':12, 'King':13, 'Ace':14}\n",
    "# Defined at a global level, and usually you place this at the top of your script.\n",
    "# When constructing make sure that key values correspond."
   ]
  },
  {
   "cell_type": "code",
   "execution_count": 2,
   "id": "917acb83",
   "metadata": {},
   "outputs": [],
   "source": [
    "# Card Class\n",
    "class Card():\n",
    "    \n",
    "    def __init__(self,suit,rank): # We will figure out 'Value' automatically, based of a dictionary we will create.\n",
    "        # Why [rank] & not [self.rank]: Inside the instantiation(__init__) method, we are already passing rank.\n",
    "        self.suit = suit\n",
    "        self.rank = rank\n",
    "        self.value = values[rank]\n",
    "    def __str__(self):\n",
    "        \n",
    "        return self.rank + \" of \" + self.suit"
   ]
  },
  {
   "cell_type": "code",
   "execution_count": 3,
   "id": "d0b6177b",
   "metadata": {},
   "outputs": [],
   "source": [
    "two_hearts = Card(\"Hearts\",\"Two\")"
   ]
  },
  {
   "cell_type": "code",
   "execution_count": 4,
   "id": "d552b9cd",
   "metadata": {},
   "outputs": [
    {
     "data": {
      "text/plain": [
       "<__main__.Card at 0x1041e9d30>"
      ]
     },
     "execution_count": 4,
     "metadata": {},
     "output_type": "execute_result"
    }
   ],
   "source": [
    "# Now the two_hearts is going to be an instance of the card class, at some location in memory.\n",
    "two_hearts"
   ]
  },
  {
   "cell_type": "code",
   "execution_count": 18,
   "id": "543883a2",
   "metadata": {},
   "outputs": [
    {
     "name": "stdout",
     "output_type": "stream",
     "text": [
      "Two of Hearts\n"
     ]
    }
   ],
   "source": [
    "print(two_hearts)"
   ]
  },
  {
   "cell_type": "code",
   "execution_count": 19,
   "id": "17426eff",
   "metadata": {},
   "outputs": [
    {
     "data": {
      "text/plain": [
       "'Hearts'"
      ]
     },
     "execution_count": 19,
     "metadata": {},
     "output_type": "execute_result"
    }
   ],
   "source": [
    "two_hearts.suit"
   ]
  },
  {
   "cell_type": "code",
   "execution_count": 20,
   "id": "33cc5dcf",
   "metadata": {},
   "outputs": [
    {
     "data": {
      "text/plain": [
       "'Two'"
      ]
     },
     "execution_count": 20,
     "metadata": {},
     "output_type": "execute_result"
    }
   ],
   "source": [
    "# Unfortunately these are both strings.\n",
    "two_hearts.rank"
   ]
  },
  {
   "cell_type": "code",
   "execution_count": 4,
   "id": "4b427f00",
   "metadata": {},
   "outputs": [],
   "source": [
    "three_clubs = Card(\"Clubs\",\"Three\")"
   ]
  },
  {
   "cell_type": "code",
   "execution_count": 9,
   "id": "cad844a9",
   "metadata": {},
   "outputs": [
    {
     "data": {
      "text/plain": [
       "2"
      ]
     },
     "execution_count": 9,
     "metadata": {},
     "output_type": "execute_result"
    }
   ],
   "source": [
    "values[two_hearts.rank]"
   ]
  },
  {
   "cell_type": "code",
   "execution_count": 14,
   "id": "bd9e570a",
   "metadata": {},
   "outputs": [
    {
     "data": {
      "text/plain": [
       "'Clubs'"
      ]
     },
     "execution_count": 14,
     "metadata": {},
     "output_type": "execute_result"
    }
   ],
   "source": [
    "three_clubs.suit"
   ]
  },
  {
   "cell_type": "code",
   "execution_count": 15,
   "id": "d6879f0d",
   "metadata": {},
   "outputs": [
    {
     "data": {
      "text/plain": [
       "'Three'"
      ]
     },
     "execution_count": 15,
     "metadata": {},
     "output_type": "execute_result"
    }
   ],
   "source": [
    "three_clubs.rank"
   ]
  },
  {
   "cell_type": "code",
   "execution_count": 16,
   "id": "b980e590",
   "metadata": {},
   "outputs": [
    {
     "data": {
      "text/plain": [
       "3"
      ]
     },
     "execution_count": 16,
     "metadata": {},
     "output_type": "execute_result"
    }
   ],
   "source": [
    "# Unlike before, now we have added the value.\n",
    "three_clubs.value"
   ]
  },
  {
   "cell_type": "code",
   "execution_count": 21,
   "id": "6de615b5",
   "metadata": {},
   "outputs": [
    {
     "data": {
      "text/plain": [
       "True"
      ]
     },
     "execution_count": 21,
     "metadata": {},
     "output_type": "execute_result"
    }
   ],
   "source": [
    "# Now we can make a comparison.\n",
    "# Have to pair it with the integer = value (.value).\n",
    "two_hearts.value < three_clubs.value"
   ]
  },
  {
   "cell_type": "code",
   "execution_count": 22,
   "id": "ec04cab7",
   "metadata": {},
   "outputs": [
    {
     "data": {
      "text/plain": [
       "False"
      ]
     },
     "execution_count": 22,
     "metadata": {},
     "output_type": "execute_result"
    }
   ],
   "source": [
    "# Check for equality\n",
    "two_hearts.value == three_clubs.value\n",
    "# Now we can begin to see how the card game will work."
   ]
  },
  {
   "cell_type": "code",
   "execution_count": 5,
   "id": "47f67f6e",
   "metadata": {},
   "outputs": [],
   "source": [
    "# Deck Class\n",
    "class Deck():\n",
    "    \n",
    "    def __init__(self):\n",
    "        # Notice user input not really required.\n",
    "        # Now we require a deck(52 objects).\n",
    "        self.all_cards = [] # Starts off as empty list, with no input from the user.(Normal python list)\n",
    "        \n",
    "        for suit in suits:\n",
    "            for rank in ranks:\n",
    "                # Create the card object.\n",
    "                created_card = Card(suit,rank) \n",
    "                # This will create a new deck for us.\n",
    "                self.all_cards.append(created_card) # Reason i can call append is because all_cards right now is just a normal python list.\n",
    "                \n",
    "    def shuffle_deck(self):\n",
    "        # We have internal list of card objects\n",
    "        random.shuffle(self.all_cards) # Do I need to return this?No, dont care about storing result anywhere for now.\n",
    "        \n",
    "    # Method that deals one card\n",
    "    def deal_one(self): # No parameters neccessary.\n",
    "        # Return a single card\n",
    "        return self.all_cards.pop() # Since all_cards is a list, I use .pop() method.\n",
    "    "
   ]
  },
  {
   "cell_type": "code",
   "execution_count": 6,
   "id": "a70c19a6",
   "metadata": {},
   "outputs": [],
   "source": [
    "new_deck = Deck()"
   ]
  },
  {
   "cell_type": "code",
   "execution_count": 29,
   "id": "8fc4b5a2",
   "metadata": {},
   "outputs": [
    {
     "data": {
      "text/plain": [
       "[<__main__.Card at 0x106139b20>,\n",
       " <__main__.Card at 0x106139460>,\n",
       " <__main__.Card at 0x106139310>,\n",
       " <__main__.Card at 0x106139700>,\n",
       " <__main__.Card at 0x106139d30>,\n",
       " <__main__.Card at 0x106139640>,\n",
       " <__main__.Card at 0x106139c40>,\n",
       " <__main__.Card at 0x106139cd0>,\n",
       " <__main__.Card at 0x1061392e0>,\n",
       " <__main__.Card at 0x1063d5610>,\n",
       " <__main__.Card at 0x1063d5b20>,\n",
       " <__main__.Card at 0x1063d5550>,\n",
       " <__main__.Card at 0x1063d5370>,\n",
       " <__main__.Card at 0x1063d54f0>,\n",
       " <__main__.Card at 0x1063d5400>,\n",
       " <__main__.Card at 0x1063d5940>,\n",
       " <__main__.Card at 0x1063d5a60>,\n",
       " <__main__.Card at 0x1063d5130>,\n",
       " <__main__.Card at 0x1059cf970>,\n",
       " <__main__.Card at 0x1059cf9d0>,\n",
       " <__main__.Card at 0x105ee9fd0>,\n",
       " <__main__.Card at 0x105ee91f0>,\n",
       " <__main__.Card at 0x105ee9c40>,\n",
       " <__main__.Card at 0x105ee93a0>,\n",
       " <__main__.Card at 0x10613c310>,\n",
       " <__main__.Card at 0x10613c610>,\n",
       " <__main__.Card at 0x10613c220>,\n",
       " <__main__.Card at 0x106133a00>,\n",
       " <__main__.Card at 0x1061338b0>,\n",
       " <__main__.Card at 0x106133b80>,\n",
       " <__main__.Card at 0x106133880>,\n",
       " <__main__.Card at 0x1061331f0>,\n",
       " <__main__.Card at 0x106133f10>,\n",
       " <__main__.Card at 0x106133f70>,\n",
       " <__main__.Card at 0x106133eb0>,\n",
       " <__main__.Card at 0x106133970>,\n",
       " <__main__.Card at 0x1059ca610>,\n",
       " <__main__.Card at 0x105f13c10>,\n",
       " <__main__.Card at 0x105f130d0>,\n",
       " <__main__.Card at 0x105f135e0>,\n",
       " <__main__.Card at 0x105f13eb0>,\n",
       " <__main__.Card at 0x105f13850>,\n",
       " <__main__.Card at 0x105f137c0>,\n",
       " <__main__.Card at 0x105f13fd0>,\n",
       " <__main__.Card at 0x105f13700>,\n",
       " <__main__.Card at 0x105f13e20>,\n",
       " <__main__.Card at 0x105f13640>,\n",
       " <__main__.Card at 0x10655ec70>,\n",
       " <__main__.Card at 0x105ee4940>,\n",
       " <__main__.Card at 0x105ee42e0>,\n",
       " <__main__.Card at 0x105ee43a0>,\n",
       " <__main__.Card at 0x106141850>]"
      ]
     },
     "execution_count": 29,
     "metadata": {},
     "output_type": "execute_result"
    }
   ],
   "source": [
    "# There we go!\n",
    "# These are 'Card' objects stored somewhere in memory\n",
    "# It is a list of them\n",
    "new_deck.all_cards"
   ]
  },
  {
   "cell_type": "code",
   "execution_count": 35,
   "id": "71dafed9",
   "metadata": {},
   "outputs": [],
   "source": [
    "# Grab very first card\n",
    "first_card = new_deck.all_cards[0]"
   ]
  },
  {
   "cell_type": "code",
   "execution_count": 37,
   "id": "a78f89dc",
   "metadata": {},
   "outputs": [
    {
     "name": "stdout",
     "output_type": "stream",
     "text": [
      "Two of Hearts\n"
     ]
    }
   ],
   "source": [
    "print(first_card)"
   ]
  },
  {
   "cell_type": "code",
   "execution_count": 36,
   "id": "6b45a263",
   "metadata": {},
   "outputs": [],
   "source": [
    "# Grab very last card\n",
    "last_card = new_deck.all_cards[-1]"
   ]
  },
  {
   "cell_type": "code",
   "execution_count": 38,
   "id": "72a54df3",
   "metadata": {},
   "outputs": [
    {
     "name": "stdout",
     "output_type": "stream",
     "text": [
      "Ace of Clubs\n"
     ]
    }
   ],
   "source": [
    "print(last_card)"
   ]
  },
  {
   "cell_type": "code",
   "execution_count": 39,
   "id": "bd52060a",
   "metadata": {},
   "outputs": [
    {
     "name": "stdout",
     "output_type": "stream",
     "text": [
      "Two of Hearts\n",
      "Three of Hearts\n",
      "Four of Hearts\n",
      "Five of Hearts\n",
      "Six of Hearts\n",
      "Seven of Hearts\n",
      "Eight of Hearts\n",
      "Nine of Hearts\n",
      "Ten of Hearts\n",
      "Jack of Hearts\n",
      "Queen of Hearts\n",
      "King of Hearts\n",
      "Ace of Hearts\n",
      "Two of Diamonds\n",
      "Three of Diamonds\n",
      "Four of Diamonds\n",
      "Five of Diamonds\n",
      "Six of Diamonds\n",
      "Seven of Diamonds\n",
      "Eight of Diamonds\n",
      "Nine of Diamonds\n",
      "Ten of Diamonds\n",
      "Jack of Diamonds\n",
      "Queen of Diamonds\n",
      "King of Diamonds\n",
      "Ace of Diamonds\n",
      "Two of Spades\n",
      "Three of Spades\n",
      "Four of Spades\n",
      "Five of Spades\n",
      "Six of Spades\n",
      "Seven of Spades\n",
      "Eight of Spades\n",
      "Nine of Spades\n",
      "Ten of Spades\n",
      "Jack of Spades\n",
      "Queen of Spades\n",
      "King of Spades\n",
      "Ace of Spades\n",
      "Two of Clubs\n",
      "Three of Clubs\n",
      "Four of Clubs\n",
      "Five of Clubs\n",
      "Six of Clubs\n",
      "Seven of Clubs\n",
      "Eight of Clubs\n",
      "Nine of Clubs\n",
      "Ten of Clubs\n",
      "Jack of Clubs\n",
      "Queen of Clubs\n",
      "King of Clubs\n",
      "Ace of Clubs\n"
     ]
    }
   ],
   "source": [
    "# Perfect!\n",
    "for card_object in new_deck.all_cards: # all_cards holds various card_objects, and card_objects returns (self.rank + \" of \" + self.suit)\n",
    "    print(card_object)"
   ]
  },
  {
   "cell_type": "code",
   "execution_count": 42,
   "id": "0b5a6360",
   "metadata": {},
   "outputs": [],
   "source": [
    "# What else do we need to add to this?\n",
    "# Right now if I create a deck, its always going to be in order. Shuffle deck through a nice methid call\n",
    "# Two ways to shuffle\n",
    "#1\n",
    "#mylist = [1,2,3,4,5,6]\n",
    "#random.shuffle(mylist) # In our case we only 'imported random'. Random.shuffle only does things in place.\n",
    "#call\n",
    "#mylist()\n",
    "\n",
    "#2\n",
    "#from random import shuffle\n",
    "# call\n",
    "#shuffle(mylist)"
   ]
  },
  {
   "cell_type": "code",
   "execution_count": 43,
   "id": "a2aa0bc8",
   "metadata": {},
   "outputs": [
    {
     "name": "stdout",
     "output_type": "stream",
     "text": [
      "Ace of Clubs\n"
     ]
    }
   ],
   "source": [
    "print(last_card)"
   ]
  },
  {
   "cell_type": "code",
   "execution_count": 44,
   "id": "a55cb8db",
   "metadata": {},
   "outputs": [],
   "source": [
    "new_deck.shuffle_deck()"
   ]
  },
  {
   "cell_type": "code",
   "execution_count": 45,
   "id": "caa6dad9",
   "metadata": {},
   "outputs": [
    {
     "name": "stdout",
     "output_type": "stream",
     "text": [
      "Nine of Spades\n"
     ]
    }
   ],
   "source": [
    "# Internally this .all_cards list has been shuffled.\n",
    "print(new_deck.all_cards[-1])"
   ]
  },
  {
   "cell_type": "code",
   "execution_count": 46,
   "id": "7abc94e9",
   "metadata": {},
   "outputs": [
    {
     "name": "stdout",
     "output_type": "stream",
     "text": [
      "Four of Hearts\n"
     ]
    }
   ],
   "source": [
    "# No longer 'Two of Hearts' remember.\n",
    "print(new_deck.all_cards[0])"
   ]
  },
  {
   "cell_type": "code",
   "execution_count": 49,
   "id": "3f462ed3",
   "metadata": {},
   "outputs": [],
   "source": [
    "# Last thing to note in Deck Class\n",
    "# Currently all_cards has the 52 cards, and I have been able to create and shuffle those cards so far.\n",
    "# In a real game, I need to be able to remove an actual card. \n",
    "new_deck.shuffle_deck()"
   ]
  },
  {
   "cell_type": "code",
   "execution_count": 14,
   "id": "ee4026f1",
   "metadata": {},
   "outputs": [],
   "source": [
    "mycard = new_deck.deal_one()"
   ]
  },
  {
   "cell_type": "code",
   "execution_count": 52,
   "id": "b7d69eb6",
   "metadata": {},
   "outputs": [
    {
     "data": {
      "text/plain": [
       "<__main__.Card at 0x105f545b0>"
      ]
     },
     "execution_count": 52,
     "metadata": {},
     "output_type": "execute_result"
    }
   ],
   "source": [
    "# Now mycard should be a card object somewhere in memory.\n",
    "# Perfect!\n",
    "mycard"
   ]
  },
  {
   "cell_type": "code",
   "execution_count": 53,
   "id": "21255861",
   "metadata": {},
   "outputs": [
    {
     "name": "stdout",
     "output_type": "stream",
     "text": [
      "King of Spades\n"
     ]
    }
   ],
   "source": [
    "print(mycard)"
   ]
  },
  {
   "cell_type": "code",
   "execution_count": 54,
   "id": "a1d0116b",
   "metadata": {},
   "outputs": [
    {
     "data": {
      "text/plain": [
       "51"
      ]
     },
     "execution_count": 54,
     "metadata": {},
     "output_type": "execute_result"
    }
   ],
   "source": [
    "# Now check the new length of cards. No longer 52 cards.\n",
    "len(new_deck.all_cards)"
   ]
  },
  {
   "cell_type": "code",
   "execution_count": 10,
   "id": "3324437e",
   "metadata": {},
   "outputs": [],
   "source": [
    "# Player Class\n",
    "class Player():\n",
    "    \n",
    "    def __init__(self,name):\n",
    "        \n",
    "        self.name = name\n",
    "        self.all_cards = [] # Start off as an empty list.\n",
    "        # We want a player to remove and add cards to this all_cards list, which is essentially their current hand of cards.\n",
    "    def remove_card(self):\n",
    "        # What we need to do here is specify to .pop(0) at zero.\n",
    "        return self.all_cards.pop(0)\n",
    "    \n",
    "    def add_cards(self,new_cards): # One parameter\n",
    "        # list of multiple card objects\n",
    "        if type(new_cards) == type([]):\n",
    "            self.all_cards.extend(new_cards)\n",
    "        # Single card object\n",
    "        else:\n",
    "            self.all_cards.append(new_cards)\n",
    "            \n",
    "    \n",
    "    def __str__(self):\n",
    "        # Essentially its going to grab that players name.\n",
    "        return f'Player {self.name} has {len(self.all_cards)} cards.'"
   ]
  },
  {
   "cell_type": "code",
   "execution_count": 12,
   "id": "abe82580",
   "metadata": {},
   "outputs": [],
   "source": [
    "new_player = Player(\"One\")"
   ]
  },
  {
   "cell_type": "code",
   "execution_count": 13,
   "id": "9fd6601c",
   "metadata": {},
   "outputs": [
    {
     "name": "stdout",
     "output_type": "stream",
     "text": [
      "Player One has 0 cards.\n"
     ]
    }
   ],
   "source": [
    "print(new_player)"
   ]
  },
  {
   "cell_type": "code",
   "execution_count": 16,
   "id": "f477cb43",
   "metadata": {},
   "outputs": [
    {
     "name": "stdout",
     "output_type": "stream",
     "text": [
      "Ace of Clubs\n"
     ]
    }
   ],
   "source": [
    "print(mycard)"
   ]
  },
  {
   "cell_type": "code",
   "execution_count": 17,
   "id": "d0e232bb",
   "metadata": {},
   "outputs": [],
   "source": [
    "new_player.add_cards(mycard)"
   ]
  },
  {
   "cell_type": "code",
   "execution_count": 18,
   "id": "56c45ba5",
   "metadata": {},
   "outputs": [
    {
     "data": {
      "text/plain": [
       "<__main__.Player at 0x10b963a00>"
      ]
     },
     "execution_count": 18,
     "metadata": {},
     "output_type": "execute_result"
    }
   ],
   "source": [
    "new_player"
   ]
  },
  {
   "cell_type": "code",
   "execution_count": 19,
   "id": "858c30ff",
   "metadata": {},
   "outputs": [
    {
     "name": "stdout",
     "output_type": "stream",
     "text": [
      "Player One has 1 cards.\n"
     ]
    }
   ],
   "source": [
    "print(new_player)"
   ]
  },
  {
   "cell_type": "code",
   "execution_count": 20,
   "id": "5beedd2d",
   "metadata": {},
   "outputs": [
    {
     "name": "stdout",
     "output_type": "stream",
     "text": [
      "Ace of Clubs\n"
     ]
    }
   ],
   "source": [
    "# Perfect!\n",
    "print(new_player.all_cards[0])"
   ]
  },
  {
   "cell_type": "code",
   "execution_count": 21,
   "id": "d5a79ea5",
   "metadata": {},
   "outputs": [],
   "source": [
    "new_player.add_cards([mycard,mycard,mycard])"
   ]
  },
  {
   "cell_type": "code",
   "execution_count": 22,
   "id": "c4f6108f",
   "metadata": {},
   "outputs": [
    {
     "name": "stdout",
     "output_type": "stream",
     "text": [
      "Player One has 4 cards.\n"
     ]
    }
   ],
   "source": [
    "print(new_player)"
   ]
  },
  {
   "cell_type": "code",
   "execution_count": 23,
   "id": "b8127cf9",
   "metadata": {},
   "outputs": [
    {
     "data": {
      "text/plain": [
       "<__main__.Card at 0x109c3ce50>"
      ]
     },
     "execution_count": 23,
     "metadata": {},
     "output_type": "execute_result"
    }
   ],
   "source": [
    "# Basically returns back card object\n",
    "new_player.remove_card()"
   ]
  },
  {
   "cell_type": "code",
   "execution_count": 24,
   "id": "3c95762d",
   "metadata": {},
   "outputs": [
    {
     "name": "stdout",
     "output_type": "stream",
     "text": [
      "Player One has 3 cards.\n"
     ]
    }
   ],
   "source": [
    "print(new_player)"
   ]
  },
  {
   "cell_type": "code",
   "execution_count": 35,
   "id": "d9fea575",
   "metadata": {},
   "outputs": [],
   "source": [
    "# Game Setup: Create the two players.\n",
    "player_one = Player(\"One\")\n",
    "player_two = Player(\"Two\")\n",
    "\n",
    "# Create a new deck, shuffle the deck.\n",
    "new_deck = Deck()\n",
    "new_deck.shuffle_deck()\n",
    "\n",
    "# Split this deck between both players(lots of different ways)\n",
    "for x in range(26): # Why 26? because deck has 52 cards and half of 52 is 26.\n",
    "    player_one.add_cards(new_deck.deal_one())\n",
    "    player_two.add_cards(new_deck.deal_one())\n"
   ]
  },
  {
   "cell_type": "code",
   "execution_count": 36,
   "id": "68a41972",
   "metadata": {},
   "outputs": [],
   "source": [
    "# In order to make sure we start off the while loop correctly.\n",
    "game_on = True"
   ]
  },
  {
   "cell_type": "code",
   "execution_count": 29,
   "id": "873b3df1",
   "metadata": {},
   "outputs": [
    {
     "data": {
      "text/plain": [
       "26"
      ]
     },
     "execution_count": 29,
     "metadata": {},
     "output_type": "execute_result"
    }
   ],
   "source": [
    "len(player_one.all_cards)"
   ]
  },
  {
   "cell_type": "code",
   "execution_count": 37,
   "id": "452e164a",
   "metadata": {},
   "outputs": [
    {
     "name": "stdout",
     "output_type": "stream",
     "text": [
      "Round 1\n",
      "Round 2\n",
      "Round 3\n",
      "Round 4\n",
      "Round 5\n",
      "Round 6\n",
      "Round 7\n",
      "Round 8\n",
      "Round 9\n",
      "Round 10\n",
      "Round 11\n",
      "Round 12\n",
      "Round 13\n",
      "Round 14\n",
      "Round 15\n",
      "Round 16\n",
      "Round 17\n",
      "Round 18\n",
      "Round 19\n",
      "Round 20\n",
      "Round 21\n",
      "Round 22\n",
      "Round 23\n",
      "Round 24\n",
      "Round 25\n",
      "Round 26\n",
      "Round 27\n",
      "Round 28\n",
      "Round 29\n",
      "Round 30\n",
      "Round 31\n",
      "Round 32\n",
      "Round 33\n",
      "Round 34\n",
      "Round 35\n",
      "Round 36\n",
      "Round 37\n",
      "Round 38\n",
      "Round 39\n",
      "Round 40\n",
      "Round 41\n",
      "Round 42\n",
      "Round 43\n",
      "Round 44\n",
      "Round 45\n",
      "Round 46\n",
      "Round 47\n",
      "Round 48\n",
      "Round 49\n",
      "Round 50\n",
      "Round 51\n",
      "Round 52\n",
      "Round 53\n",
      "Round 54\n",
      "Round 55\n",
      "Round 56\n",
      "Round 57\n",
      "Round 58\n",
      "Round 59\n",
      "Round 60\n",
      "Round 61\n",
      "Round 62\n",
      "Round 63\n",
      "Round 64\n",
      "Round 65\n",
      "Round 66\n",
      "Round 67\n",
      "Round 68\n",
      "Round 69\n",
      "Round 70\n",
      "Round 71\n",
      "Round 72\n",
      "Round 73\n",
      "Round 74\n",
      "Round 75\n",
      "Round 76\n",
      "Round 77\n",
      "Round 78\n",
      "Round 79\n",
      "Round 80\n",
      "Round 81\n",
      "Round 82\n",
      "Round 83\n",
      "Round 84\n",
      "Round 85\n",
      "Round 86\n",
      "Round 87\n",
      "Round 88\n",
      "Round 89\n",
      "Round 90\n",
      "Round 91\n",
      "Round 92\n",
      "Round 93\n",
      "Round 94\n",
      "WAR!\n",
      "Round 95\n",
      "WAR!\n",
      "Round 96\n",
      "Round 97\n",
      "Round 98\n",
      "Round 99\n",
      "Round 100\n",
      "Round 101\n",
      "Round 102\n",
      "Round 103\n",
      "Round 104\n",
      "Round 105\n",
      "Round 106\n",
      "Round 107\n",
      "Round 108\n",
      "WAR!\n",
      "Round 109\n",
      "Round 110\n",
      "Round 111\n",
      "Round 112\n",
      "Round 113\n",
      "Round 114\n",
      "Round 115\n",
      "Round 116\n",
      "WAR!\n",
      "Round 117\n",
      "Round 118\n",
      "Round 119\n",
      "Round 120\n",
      "Round 121\n",
      "Round 122\n",
      "Round 123\n",
      "Round 124\n",
      "Round 125\n",
      "Round 126\n",
      "Round 127\n",
      "Round 128\n",
      "Round 129\n",
      "Round 130\n",
      "Round 131\n",
      "Round 132\n",
      "WAR!\n",
      "Round 133\n",
      "WAR!\n",
      "Round 134\n",
      "Round 135\n",
      "Round 136\n",
      "Round 137\n",
      "Round 138\n",
      "Round 139\n",
      "Round 140\n",
      "Round 141\n",
      "Round 142\n",
      "Round 143\n",
      "Round 144\n",
      "Round 145\n",
      "Round 146\n",
      "Round 147\n",
      "Round 148\n",
      "Round 149\n",
      "Round 150\n",
      "Round 151\n",
      "Round 152\n",
      "Round 153\n",
      "Round 154\n",
      "Round 155\n",
      "Round 156\n",
      "Round 157\n",
      "Round 158\n",
      "Round 159\n",
      "Round 160\n",
      "Round 161\n",
      "Round 162\n",
      "Round 163\n",
      "WAR!\n",
      "WAR!\n",
      "Round 164\n",
      "WAR!\n",
      "Round 165\n",
      "Round 166\n",
      "Round 167\n",
      "Round 168\n",
      "Round 169\n",
      "Round 170\n",
      "Round 171\n",
      "Round 172\n",
      "Round 173\n",
      "WAR!\n",
      "Round 174\n",
      "Round 175\n",
      "Round 176\n",
      "Round 177\n",
      "Round 178\n",
      "Round 179\n",
      "WAR!\n",
      "Round 180\n",
      "Round 181\n",
      "Round 182\n",
      "Round 183\n",
      "Round 184\n",
      "Round 185\n",
      "Round 186\n",
      "Round 187\n",
      "Round 188\n",
      "Round 189\n",
      "Round 190\n",
      "Round 191\n",
      "Round 192\n",
      "Round 193\n",
      "Round 194\n",
      "Round 195\n",
      "Round 196\n",
      "Round 197\n",
      "Round 198\n",
      "Round 199\n",
      "Round 200\n",
      "Round 201\n",
      "Round 202\n",
      "Round 203\n",
      "Round 204\n",
      "Round 205\n",
      "Round 206\n",
      "WAR!\n",
      "Round 207\n",
      "Round 208\n",
      "Round 209\n",
      "Round 210\n",
      "Round 211\n",
      "Round 212\n",
      "Round 213\n",
      "Round 214\n",
      "Round 215\n",
      "Round 216\n",
      "Round 217\n",
      "Round 218\n",
      "Round 219\n",
      "Round 220\n",
      "Round 221\n",
      "Round 222\n",
      "Round 223\n",
      "WAR!\n",
      "Round 224\n",
      "Round 225\n",
      "Round 226\n",
      "Round 227\n",
      "Round 228\n",
      "Round 229\n",
      "Round 230\n",
      "Round 231\n",
      "Round 232\n",
      "Round 233\n",
      "Round 234\n",
      "Round 235\n",
      "Round 236\n",
      "Round 237\n",
      "Round 238\n",
      "Round 239\n",
      "WAR!\n",
      "Round 240\n",
      "Round 241\n",
      "Round 242\n",
      "Round 243\n",
      "Round 244\n",
      "Round 245\n",
      "Round 246\n",
      "WAR!\n",
      "Round 247\n",
      "Round 248\n",
      "Round 249\n",
      "Round 250\n",
      "Round 251\n",
      "Round 252\n",
      "Round 253\n",
      "Round 254\n",
      "Round 255\n",
      "Round 256\n",
      "Round 257\n",
      "Round 258\n",
      "Round 259\n",
      "Round 260\n",
      "Round 261\n",
      "Round 262\n",
      "Round 263\n",
      "Round 264\n",
      "Round 265\n",
      "WAR!\n",
      "Round 266\n",
      "Round 267\n",
      "Round 268\n",
      "Round 269\n",
      "Round 270\n",
      "Round 271\n",
      "Round 272\n",
      "Round 273\n",
      "Round 274\n",
      "Round 275\n",
      "WAR!\n",
      "Round 276\n",
      "Round 277\n",
      "Round 278\n",
      "Round 279\n",
      "Round 280\n",
      "Round 281\n",
      "Round 282\n",
      "Round 283\n",
      "Round 284\n",
      "Round 285\n",
      "Round 286\n",
      "Round 287\n",
      "Round 288\n",
      "Round 289\n",
      "Round 290\n",
      "Round 291\n",
      "Round 292\n",
      "Round 293\n",
      "Round 294\n",
      "Round 295\n",
      "Round 296\n",
      "Round 297\n",
      "Round 298\n",
      "Round 299\n",
      "Round 300\n",
      "Round 301\n",
      "Round 302\n",
      "Round 303\n",
      "Round 304\n",
      "WAR!\n",
      "Round 305\n",
      "Round 306\n",
      "Round 307\n",
      "Round 308\n",
      "Round 309\n",
      "Round 310\n",
      "Round 311\n",
      "Round 312\n",
      "Round 313\n",
      "Round 314\n",
      "Round 315\n",
      "Round 316\n",
      "Round 317\n",
      "Round 318\n",
      "Round 319\n",
      "WAR!\n",
      "Round 320\n",
      "Round 321\n",
      "Round 322\n",
      "Round 323\n",
      "Round 324\n",
      "Round 325\n",
      "Round 326\n",
      "Round 327\n",
      "Round 328\n",
      "Round 329\n",
      "Round 330\n",
      "Round 331\n",
      "Round 332\n",
      "WAR!\n",
      "Round 333\n",
      "Round 334\n",
      "Round 335\n",
      "WAR!\n",
      "Round 336\n",
      "Round 337\n",
      "Round 338\n",
      "Round 339\n",
      "Round 340\n",
      "WAR!\n",
      "Round 341\n",
      "Round 342\n",
      "Round 343\n",
      "Round 344\n",
      "Round 345\n",
      "Round 346\n",
      "Round 347\n",
      "Round 348\n",
      "Round 349\n",
      "Round 350\n",
      "Round 351\n",
      "Round 352\n",
      "Round 353\n",
      "Round 354\n",
      "Round 355\n",
      "Round 356\n",
      "Round 357\n",
      "Round 358\n",
      "Round 359\n",
      "Round 360\n",
      "Round 361\n",
      "Round 362\n",
      "WAR!\n",
      "Round 363\n",
      "Round 364\n",
      "Round 365\n",
      "Round 366\n",
      "Round 367\n",
      "Round 368\n",
      "Round 369\n",
      "Round 370\n",
      "Round 371\n",
      "Round 372\n",
      "Round 373\n",
      "Round 374\n",
      "Round 375\n",
      "Round 376\n",
      "Round 377\n",
      "Round 378\n",
      "Round 379\n",
      "Round 380\n",
      "Round 381\n",
      "Round 382\n",
      "Round 383\n",
      "Round 384\n",
      "Round 385\n",
      "Round 386\n",
      "Round 387\n",
      "Round 388\n",
      "Round 389\n",
      "Round 390\n",
      "Round 391\n",
      "Round 392\n",
      "Round 393\n",
      "Round 394\n",
      "Round 395\n",
      "Round 396\n",
      "Round 397\n",
      "Round 398\n",
      "Round 399\n",
      "Round 400\n",
      "Round 401\n",
      "Round 402\n",
      "Round 403\n",
      "Round 404\n",
      "Round 405\n",
      "Round 406\n",
      "Round 407\n",
      "Round 408\n",
      "Round 409\n",
      "WAR!\n",
      "Round 410\n",
      "Round 411\n",
      "Round 412\n",
      "WAR!\n",
      "Round 413\n",
      "Round 414\n",
      "Round 415\n",
      "Round 416\n",
      "Round 417\n",
      "Round 418\n",
      "Round 419\n",
      "Round 420\n",
      "Round 421\n",
      "Round 422\n",
      "Round 423\n",
      "Round 424\n",
      "Round 425\n",
      "WAR!\n",
      "Round 426\n",
      "Round 427\n",
      "Round 428\n",
      "Round 429\n",
      "Round 430\n",
      "Round 431\n",
      "Round 432\n",
      "Round 433\n",
      "Round 434\n",
      "Round 435\n",
      "Round 436\n",
      "Round 437\n",
      "Round 438\n",
      "Round 439\n",
      "Round 440\n",
      "Round 441\n",
      "Round 442\n",
      "Round 443\n",
      "Round 444\n",
      "Round 445\n",
      "Round 446\n",
      "Round 447\n",
      "Round 448\n",
      "Round 449\n",
      "Round 450\n",
      "Round 451\n",
      "Round 452\n",
      "Round 453\n",
      "Round 454\n",
      "Round 455\n",
      "Round 456\n",
      "Round 457\n",
      "Round 458\n",
      "Round 459\n",
      "Round 460\n",
      "Round 461\n",
      "Round 462\n",
      "Round 463\n",
      "Round 464\n",
      "Round 465\n",
      "Round 466\n",
      "WAR!\n",
      "Round 467\n",
      "Round 468\n",
      "Round 469\n",
      "Round 470\n",
      "Round 471\n",
      "Round 472\n",
      "Round 473\n",
      "Round 474\n",
      "Round 475\n",
      "Round 476\n",
      "Round 477\n",
      "WAR!\n",
      "Round 478\n",
      "Round 479\n",
      "Round 480\n",
      "Round 481\n",
      "Round 482\n",
      "Round 483\n",
      "Round 484\n",
      "Round 485\n",
      "Round 486\n",
      "Round 487\n",
      "Round 488\n",
      "Round 489\n",
      "Round 490\n",
      "Round 491\n",
      "WAR!\n",
      "Round 492\n",
      "Round 493\n",
      "Round 494\n",
      "Round 495\n",
      "Round 496\n",
      "Round 497\n",
      "Round 498\n",
      "Round 499\n",
      "Round 500\n",
      "Round 501\n",
      "Round 502\n",
      "Round 503\n",
      "Round 504\n",
      "Round 505\n",
      "Round 506\n",
      "Round 507\n",
      "Round 508\n",
      "Round 509\n",
      "Round 510\n",
      "Round 511\n",
      "WAR!\n",
      "Round 512\n",
      "Round 513\n",
      "Round 514\n",
      "Round 515\n",
      "Round 516\n",
      "Round 517\n",
      "Round 518\n",
      "Round 519\n",
      "WAR!\n",
      "Round 520\n",
      "WAR!\n",
      "Round 521\n",
      "Round 522\n",
      "Round 523\n",
      "Round 524\n",
      "Round 525\n",
      "Round 526\n",
      "Round 527\n",
      "Round 528\n",
      "Round 529\n",
      "Round 530\n",
      "Round 531\n",
      "Round 532\n",
      "Round 533\n",
      "Round 534\n",
      "Round 535\n",
      "Round 536\n",
      "Round 537\n",
      "Round 538\n",
      "Round 539\n",
      "Round 540\n",
      "Round 541\n",
      "Round 542\n",
      "Round 543\n",
      "Round 544\n",
      "Round 545\n",
      "Round 546\n",
      "Round 547\n",
      "Round 548\n",
      "Round 549\n",
      "Round 550\n",
      "Round 551\n",
      "Round 552\n",
      "Round 553\n",
      "Round 554\n",
      "Round 555\n",
      "Round 556\n",
      "Round 557\n",
      "Round 558\n",
      "WAR!\n",
      "Round 559\n",
      "Round 560\n",
      "WAR!\n",
      "Round 561\n",
      "Round 562\n",
      "Round 563\n",
      "Round 564\n",
      "Round 565\n",
      "Round 566\n",
      "Round 567\n",
      "Round 568\n",
      "Round 569\n",
      "Round 570\n",
      "Round 571\n",
      "Round 572\n",
      "Round 573\n",
      "Round 574\n",
      "Round 575\n",
      "Round 576\n",
      "Round 577\n",
      "Round 578\n",
      "Round 579\n",
      "Round 580\n",
      "WAR!\n",
      "Round 581\n",
      "Round 582\n",
      "Round 583\n",
      "Round 584\n",
      "Round 585\n",
      "Round 586\n",
      "WAR!\n",
      "Round 587\n",
      "Round 588\n",
      "Round 589\n",
      "Round 590\n",
      "Round 591\n",
      "Player Two, out of cards! Player One wins.\n"
     ]
    }
   ],
   "source": [
    "# Outside of this lets have a counter\n",
    "round_num = 0\n",
    "# While game_on\n",
    "while game_on:\n",
    "    # For each round\n",
    "    round_num += 1 # Essentially adding one to my current counter.\n",
    "    print(f\"Round {round_num}\")\n",
    "    \n",
    "    # Check to see if player is out of cards.\n",
    "    if len(player_one.all_cards) == 0: # This means that they have no cards left.\n",
    "        print(\"Player One, out of cards! Player Two wins.\")\n",
    "        game_on = False # Or break, which ends the game.\n",
    "        break\n",
    "        \n",
    "    if len(player_two.all_cards) == 0: # This means that they have no cards left.\n",
    "        print(\"Player Two, out of cards! Player One wins.\")\n",
    "        game_on = False # Or break, which ends the game.\n",
    "        break\n",
    "    \n",
    "    # Start a new round\n",
    "    # This variable you can think of it as the cards that the player is going to leave on the table.\n",
    "    player_one_cards = [] # Empty list\n",
    "    player_one_cards.append(player_one.remove_card())\n",
    "    \n",
    "    player_two_cards = []\n",
    "    player_two_cards.append(player_two.remove_card())\n",
    "    \n",
    "    # Now we have to start checking the actual comparisons.\n",
    "    # While at_war\n",
    "    \n",
    "    at_war = True\n",
    "    \n",
    "    while at_war:\n",
    "        # Start doing an if check.\n",
    "        if player_one_cards[-1].value > player_two_cards[-1].value: # Why [-1]? because on the assumption that we get to war, Player One cards are eventually going to be a stack of cards. with -1 you will always draw the last card.\n",
    "            # In this case Player One has beaten Player Two\n",
    "            player_one.add_cards(player_one_cards)\n",
    "            player_one.add_cards(player_two_cards) # .add_cards() works for singular and multiple cards.\n",
    "            \n",
    "            # Now no longer at_war\n",
    "            at_war = False # or break\n",
    "        # Check to see if Player Two has won.\n",
    "        elif player_two_cards[-1].value > player_one_cards[-1].value: # Why [-1]? because on the assumption that we get to war, Player One cards are eventually going to be a stack of cards. with -1 you will always draw the last card.\n",
    "            # In this case Player One has beaten Player Two\n",
    "            player_two.add_cards(player_two_cards)\n",
    "            player_two.add_cards(player_one_cards) # .add_cards() works for singular and multiple cards.\n",
    "            \n",
    "            # Now no longer at_war\n",
    "            at_war = False # or break\n",
    "        # If the cards are not greater than or less than, then they must be equal.    \n",
    "        else:\n",
    "            print(\"WAR!\")\n",
    "            \n",
    "            # Player loses if they don't have enough cards to go to war.\n",
    "            if len(player_one.all_cards) < 5: # Essentially they cant play a war\n",
    "                print(\"Player One can't declare war!\")\n",
    "                print(\"Player Two wins!\")\n",
    "                # Because game is over at this instance.\n",
    "                game_on = False \n",
    "                break\n",
    "            # Same thing for player two\n",
    "            elif len(player_two.all_cards) < 5: # Essentially they cant play a war\n",
    "                print(\"Player Two can't declare war!\")\n",
    "                print(\"Player One wins!\")\n",
    "                # Because game is over at this instance.\n",
    "                game_on = False \n",
    "                break\n",
    "            \n",
    "            else:\n",
    "                for num in range(5):\n",
    "                    player_one_cards.append(player_one.remove_card())\n",
    "                    player_two_cards.append(player_two.remove_card())\n",
    "        # This is total game logic.\n",
    "            \n",
    "        "
   ]
  },
  {
   "cell_type": "code",
   "execution_count": 38,
   "id": "a60bf2f0",
   "metadata": {},
   "outputs": [],
   "source": [
    "# What I have learnt so far is to use OOP(Object Orientated Programming) to create a simple application.\n",
    "# Main thing being: Classes"
   ]
  },
  {
   "cell_type": "code",
   "execution_count": null,
   "id": "22418933",
   "metadata": {},
   "outputs": [],
   "source": [
    "# Milestone 2 Project (Warm-up)"
   ]
  }
 ],
 "metadata": {
  "kernelspec": {
   "display_name": "Python 3 (ipykernel)",
   "language": "python",
   "name": "python3"
  },
  "language_info": {
   "codemirror_mode": {
    "name": "ipython",
    "version": 3
   },
   "file_extension": ".py",
   "mimetype": "text/x-python",
   "name": "python",
   "nbconvert_exporter": "python",
   "pygments_lexer": "ipython3",
   "version": "3.9.13"
  }
 },
 "nbformat": 4,
 "nbformat_minor": 5
}
