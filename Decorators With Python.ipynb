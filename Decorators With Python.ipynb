{
 "cells": [
  {
   "cell_type": "code",
   "execution_count": 1,
   "id": "44dc8057",
   "metadata": {},
   "outputs": [],
   "source": [
    "# Decorators"
   ]
  },
  {
   "cell_type": "code",
   "execution_count": 2,
   "id": "2743c579",
   "metadata": {},
   "outputs": [],
   "source": [
    "def func():\n",
    "    return 1"
   ]
  },
  {
   "cell_type": "code",
   "execution_count": 3,
   "id": "d36001e0",
   "metadata": {},
   "outputs": [
    {
     "data": {
      "text/plain": [
       "1"
      ]
     },
     "execution_count": 3,
     "metadata": {},
     "output_type": "execute_result"
    }
   ],
   "source": [
    "func()"
   ]
  },
  {
   "cell_type": "code",
   "execution_count": 4,
   "id": "02e0d983",
   "metadata": {},
   "outputs": [],
   "source": [
    "def Hello():\n",
    "    return \"Hello\""
   ]
  },
  {
   "cell_type": "code",
   "execution_count": 6,
   "id": "77d3aeb8",
   "metadata": {},
   "outputs": [
    {
     "data": {
      "text/plain": [
       "'Hello'"
      ]
     },
     "execution_count": 6,
     "metadata": {},
     "output_type": "execute_result"
    }
   ],
   "source": [
    "Hello()"
   ]
  },
  {
   "cell_type": "code",
   "execution_count": 7,
   "id": "95eed342",
   "metadata": {},
   "outputs": [
    {
     "data": {
      "text/plain": [
       "<function __main__.Hello()>"
      ]
     },
     "execution_count": 7,
     "metadata": {},
     "output_type": "execute_result"
    }
   ],
   "source": [
    "Hello"
   ]
  },
  {
   "cell_type": "code",
   "execution_count": 8,
   "id": "dc7b2532",
   "metadata": {},
   "outputs": [],
   "source": [
    "greet = Hello"
   ]
  },
  {
   "cell_type": "code",
   "execution_count": 9,
   "id": "98088b38",
   "metadata": {},
   "outputs": [
    {
     "data": {
      "text/plain": [
       "'Hello'"
      ]
     },
     "execution_count": 9,
     "metadata": {},
     "output_type": "execute_result"
    }
   ],
   "source": [
    "greet()"
   ]
  },
  {
   "cell_type": "code",
   "execution_count": 10,
   "id": "8b26da95",
   "metadata": {},
   "outputs": [],
   "source": [
    "# Is Greet just pointing to hello?\n",
    "# Or has it made its own copy of the Hello function?"
   ]
  },
  {
   "cell_type": "code",
   "execution_count": 11,
   "id": "c51e7030",
   "metadata": {},
   "outputs": [],
   "source": [
    "del Hello"
   ]
  },
  {
   "cell_type": "code",
   "execution_count": 12,
   "id": "f67d1215",
   "metadata": {},
   "outputs": [
    {
     "ename": "NameError",
     "evalue": "name 'Hello' is not defined",
     "output_type": "error",
     "traceback": [
      "\u001b[0;31m---------------------------------------------------------------------------\u001b[0m",
      "\u001b[0;31mNameError\u001b[0m                                 Traceback (most recent call last)",
      "\u001b[0;32m/var/folders/c9/nlwytfvs6tjf2sg6vj49578w0000gn/T/ipykernel_8175/2759718063.py\u001b[0m in \u001b[0;36m<module>\u001b[0;34m\u001b[0m\n\u001b[0;32m----> 1\u001b[0;31m \u001b[0mHello\u001b[0m\u001b[0;34m(\u001b[0m\u001b[0;34m)\u001b[0m\u001b[0;34m\u001b[0m\u001b[0;34m\u001b[0m\u001b[0m\n\u001b[0m",
      "\u001b[0;31mNameError\u001b[0m: name 'Hello' is not defined"
     ]
    }
   ],
   "source": [
    "Hello()"
   ]
  },
  {
   "cell_type": "code",
   "execution_count": 13,
   "id": "c6615e06",
   "metadata": {},
   "outputs": [
    {
     "data": {
      "text/plain": [
       "'Hello'"
      ]
     },
     "execution_count": 13,
     "metadata": {},
     "output_type": "execute_result"
    }
   ],
   "source": [
    "greet()"
   ]
  },
  {
   "cell_type": "code",
   "execution_count": 14,
   "id": "92c39594",
   "metadata": {},
   "outputs": [],
   "source": [
    "# So greet still returns Hello, meaning that it points to the function object.\n",
    "# Functions are objects that can be passed through other objects. "
   ]
  },
  {
   "cell_type": "code",
   "execution_count": 15,
   "id": "251bd821",
   "metadata": {},
   "outputs": [],
   "source": [
    "# Passing function within another function\n",
    "# Or calling functions within another function (Scope & Nested Lecture)"
   ]
  },
  {
   "cell_type": "code",
   "execution_count": 20,
   "id": "3a496a7f",
   "metadata": {},
   "outputs": [],
   "source": [
    "def Hello(name='Luka'):\n",
    "    print('The Hello() function has been executed!')\n",
    "    \n",
    "    def greet():\n",
    "        return '\\t This is the greet() function in Hello()'"
   ]
  },
  {
   "cell_type": "code",
   "execution_count": 21,
   "id": "03320951",
   "metadata": {},
   "outputs": [
    {
     "name": "stdout",
     "output_type": "stream",
     "text": [
      "The Hello() function has been executed!\n"
     ]
    }
   ],
   "source": [
    "Hello()"
   ]
  },
  {
   "cell_type": "code",
   "execution_count": 22,
   "id": "01813b2b",
   "metadata": {},
   "outputs": [],
   "source": [
    "# Think about whats happening here:\n",
    "# I have this function hello(), it takes in a default name by 'Luka', then it prints out a statement.\n",
    "# Inside of this function I'm defining another function, called greet() which returns a statement.(Notice: we just defined greet() we didnt call it)"
   ]
  },
  {
   "cell_type": "code",
   "execution_count": 24,
   "id": "ef1b2530",
   "metadata": {},
   "outputs": [],
   "source": [
    "def Hello(name='Luka'):\n",
    "    print('The Hello() function has been executed!')\n",
    "    \n",
    "    def greet():\n",
    "        return '\\t This is the greet() function in Hello()'\n",
    "    \n",
    "    print(greet())\n",
    "    # Now we executed it, inside hello()."
   ]
  },
  {
   "cell_type": "code",
   "execution_count": 25,
   "id": "aef9f5ea",
   "metadata": {},
   "outputs": [
    {
     "name": "stdout",
     "output_type": "stream",
     "text": [
      "The Hello() function has been executed!\n",
      "\t This is the greet() function in Hello()\n"
     ]
    }
   ],
   "source": [
    "Hello()"
   ]
  },
  {
   "cell_type": "code",
   "execution_count": 29,
   "id": "7beb3e62",
   "metadata": {},
   "outputs": [],
   "source": [
    "def Hello(name='Luka'):\n",
    "    print('The Hello() function has been executed!')\n",
    "    \n",
    "    def greet():\n",
    "        return '\\t This is the greet() function in Hello()'\n",
    "    # greet() & Welcome() scope is limited to the Hello(), as they are inside it.\n",
    "    def welcome():\n",
    "        return '\\t This is welcome() inside of Hello()'\n",
    "    \n",
    "    print(greet())\n",
    "    print(welcome())\n",
    "    print('This is the end of the Hello()!')"
   ]
  },
  {
   "cell_type": "code",
   "execution_count": 30,
   "id": "e2aef6b0",
   "metadata": {},
   "outputs": [
    {
     "name": "stdout",
     "output_type": "stream",
     "text": [
      "The Hello() function has been executed!\n",
      "\t This is the greet() function in Hello()\n",
      "\t This is welcome() inside of Hello()\n",
      "This is the end of the Hello()!\n"
     ]
    }
   ],
   "source": [
    "Hello()"
   ]
  },
  {
   "cell_type": "code",
   "execution_count": 28,
   "id": "688e8180",
   "metadata": {},
   "outputs": [],
   "source": [
    "# Pay attention to indentation."
   ]
  },
  {
   "cell_type": "code",
   "execution_count": 31,
   "id": "e65ed4d8",
   "metadata": {},
   "outputs": [],
   "source": [
    "# What if we want to access these functions outside of Hello()?\n",
    "# Have the Hello() return a Function.\n",
    "def Hello(name='Luka'):\n",
    "    print('The Hello() function has been executed!')\n",
    "    \n",
    "    def greet():\n",
    "        return '\\t This is the greet() function in Hello()'\n",
    "    # greet() & Welcome() scope is limited to the Hello(), as they are inside it.\n",
    "    def welcome():\n",
    "        return '\\t This is welcome() inside of Hello()'\n",
    "    \n",
    "    print('I am going to return a function!')\n",
    "    \n",
    "    if name == 'Luka':\n",
    "        return greet\n",
    "    else:\n",
    "        return welcome"
   ]
  },
  {
   "cell_type": "code",
   "execution_count": 32,
   "id": "04a5b35e",
   "metadata": {},
   "outputs": [
    {
     "name": "stdout",
     "output_type": "stream",
     "text": [
      "The Hello() function has been executed!\n",
      "I am going to return a function!\n"
     ]
    }
   ],
   "source": [
    "my_new_func = Hello()"
   ]
  },
  {
   "cell_type": "code",
   "execution_count": 33,
   "id": "ee0976b4",
   "metadata": {},
   "outputs": [
    {
     "data": {
      "text/plain": [
       "<function __main__.Hello.<locals>.greet()>"
      ]
     },
     "execution_count": 33,
     "metadata": {},
     "output_type": "execute_result"
    }
   ],
   "source": [
    "my_new_func"
   ]
  },
  {
   "cell_type": "code",
   "execution_count": 34,
   "id": "08a4362b",
   "metadata": {},
   "outputs": [
    {
     "data": {
      "text/plain": [
       "'\\t This is the greet() function in Hello()'"
      ]
     },
     "execution_count": 34,
     "metadata": {},
     "output_type": "execute_result"
    }
   ],
   "source": [
    "# Notice it says fuction; main; .Hello; .locals; .greet()\n",
    "my_new_func()"
   ]
  },
  {
   "cell_type": "code",
   "execution_count": 35,
   "id": "2c77b147",
   "metadata": {},
   "outputs": [
    {
     "name": "stdout",
     "output_type": "stream",
     "text": [
      "\t This is the greet() function in Hello()\n"
     ]
    }
   ],
   "source": [
    "# Execute it and see that it returns the string\n",
    "print(my_new_func())"
   ]
  },
  {
   "cell_type": "code",
   "execution_count": 36,
   "id": "4d34ea3c",
   "metadata": {},
   "outputs": [],
   "source": [
    "def Cool():\n",
    "    \n",
    "    def Super_cool():\n",
    "        return 'I am very cool!'\n",
    "    \n",
    "    return Super_cool"
   ]
  },
  {
   "cell_type": "code",
   "execution_count": 37,
   "id": "e4815e40",
   "metadata": {},
   "outputs": [],
   "source": [
    "some_func = Cool()"
   ]
  },
  {
   "cell_type": "code",
   "execution_count": 38,
   "id": "02b93f64",
   "metadata": {},
   "outputs": [
    {
     "data": {
      "text/plain": [
       "'I am very cool!'"
      ]
     },
     "execution_count": 38,
     "metadata": {},
     "output_type": "execute_result"
    }
   ],
   "source": [
    "some_func()"
   ]
  },
  {
   "cell_type": "code",
   "execution_count": 39,
   "id": "1042a8f6",
   "metadata": {},
   "outputs": [
    {
     "data": {
      "text/plain": [
       "<function __main__.Cool.<locals>.Super_cool()>"
      ]
     },
     "execution_count": 39,
     "metadata": {},
     "output_type": "execute_result"
    }
   ],
   "source": [
    "some_func"
   ]
  },
  {
   "cell_type": "code",
   "execution_count": 40,
   "id": "126fb604",
   "metadata": {},
   "outputs": [],
   "source": [
    "# Having a function; defining a function inside of another function; and returning that function."
   ]
  },
  {
   "cell_type": "code",
   "execution_count": 41,
   "id": "56fc18d5",
   "metadata": {},
   "outputs": [],
   "source": [
    "# We will use this idea in bulding a decorator.\n",
    "# Combined with passing a function as an arguement."
   ]
  },
  {
   "cell_type": "code",
   "execution_count": 42,
   "id": "580fe6e4",
   "metadata": {},
   "outputs": [],
   "source": [
    "def hello():\n",
    "    return 'Hi Luka'"
   ]
  },
  {
   "cell_type": "code",
   "execution_count": 43,
   "id": "110d481d",
   "metadata": {},
   "outputs": [],
   "source": [
    "def other(some_def_func):\n",
    "    print('Other code runs here!')\n",
    "    # Then its actually going to execute that function.\n",
    "    print(some_def_func())"
   ]
  },
  {
   "cell_type": "code",
   "execution_count": 44,
   "id": "9c08e163",
   "metadata": {},
   "outputs": [],
   "source": [
    "# What does this mean? I'm going to ba able to pass in a function into this other(), do some stuff & execute the function.\n",
    "# This is passing a function as an arguement."
   ]
  },
  {
   "cell_type": "code",
   "execution_count": 45,
   "id": "3b4e14b4",
   "metadata": {},
   "outputs": [
    {
     "name": "stdout",
     "output_type": "stream",
     "text": [
      "Other code runs here!\n",
      "Hi Luka\n"
     ]
    }
   ],
   "source": [
    "# Note: Im passing in hello(The raw function), not executing hello.\n",
    "other(hello)"
   ]
  },
  {
   "cell_type": "code",
   "execution_count": 46,
   "id": "76eea136",
   "metadata": {},
   "outputs": [],
   "source": [
    "# We can return functions and have functions as arguements."
   ]
  },
  {
   "cell_type": "code",
   "execution_count": 47,
   "id": "e78fa249",
   "metadata": {},
   "outputs": [],
   "source": [
    "# Now we can use these tools to create a device that is an on/off switch."
   ]
  },
  {
   "cell_type": "code",
   "execution_count": null,
   "id": "4918b90a",
   "metadata": {},
   "outputs": [],
   "source": []
  },
  {
   "cell_type": "code",
   "execution_count": null,
   "id": "cc027df4",
   "metadata": {},
   "outputs": [],
   "source": []
  },
  {
   "cell_type": "code",
   "execution_count": null,
   "id": "1e7e3e7f",
   "metadata": {},
   "outputs": [],
   "source": []
  },
  {
   "cell_type": "code",
   "execution_count": 48,
   "id": "04cabfeb",
   "metadata": {},
   "outputs": [],
   "source": [
    "# New Decorator\n",
    "def new_decorator(original_func):\n",
    "    # What this wrap_func represents is the actual functionality that i wan to decorate this original_func with.\n",
    "    def wrap_func():\n",
    "        \n",
    "        print('Some extra code, before the original_func')\n",
    "        \n",
    "        # We are going to take in the original_func that was passed, and execute it.\n",
    "        original_func()\n",
    "        \n",
    "        print('Some extra code, after the original_func')\n",
    "    \n",
    "    return wrap_func\n",
    "# Think of this as the idea of a gift or wraping paper. Where the original_func is the gift and we put it inside a box and decorate/wrap around it."
   ]
  },
  {
   "cell_type": "code",
   "execution_count": 49,
   "id": "62f7cab6",
   "metadata": {},
   "outputs": [],
   "source": [
    "# Now we create a function that needs a decorator.\n",
    "def func_needs_decorator():\n",
    "    \n",
    "    print('I want to be decorated!')\n",
    "    "
   ]
  },
  {
   "cell_type": "code",
   "execution_count": 50,
   "id": "f725785f",
   "metadata": {},
   "outputs": [],
   "source": [
    "# The idea is to add in extra functionality to the previous function 'func_needs_decorator()'\n",
    "# Firstly, grab my new_decorator() and pass in the func_needs_decorator\n",
    "decorated_func = new_decorator(func_needs_decorator) # No I'm not executing it."
   ]
  },
  {
   "cell_type": "code",
   "execution_count": 51,
   "id": "67270bfa",
   "metadata": {},
   "outputs": [
    {
     "data": {
      "text/plain": [
       "<function __main__.new_decorator.<locals>.wrap_func()>"
      ]
     },
     "execution_count": 51,
     "metadata": {},
     "output_type": "execute_result"
    }
   ],
   "source": [
    "decorated_func"
   ]
  },
  {
   "cell_type": "code",
   "execution_count": 52,
   "id": "3c492fae",
   "metadata": {},
   "outputs": [
    {
     "name": "stdout",
     "output_type": "stream",
     "text": [
      "Some extra code, before the original_func\n",
      "I want to be decorated!\n",
      "Some extra code, after the original_func\n"
     ]
    }
   ],
   "source": [
    "decorated_func()"
   ]
  },
  {
   "cell_type": "code",
   "execution_count": 53,
   "id": "f7f5ab3c",
   "metadata": {},
   "outputs": [],
   "source": [
    "# Special syntax for all this code is @\n",
    "# Turn it on.\n",
    "@new_decorator\n",
    "def func_needs_decorator():\n",
    "    \n",
    "    print('I want to be decorated!')"
   ]
  },
  {
   "cell_type": "code",
   "execution_count": 54,
   "id": "b75e2531",
   "metadata": {},
   "outputs": [
    {
     "data": {
      "text/plain": [
       "<function __main__.new_decorator.<locals>.wrap_func()>"
      ]
     },
     "execution_count": 54,
     "metadata": {},
     "output_type": "execute_result"
    }
   ],
   "source": [
    "func_needs_decorator"
   ]
  },
  {
   "cell_type": "code",
   "execution_count": 55,
   "id": "77c654ad",
   "metadata": {},
   "outputs": [
    {
     "name": "stdout",
     "output_type": "stream",
     "text": [
      "Some extra code, before the original_func\n",
      "I want to be decorated!\n",
      "Some extra code, after the original_func\n"
     ]
    }
   ],
   "source": [
    "func_needs_decorator()"
   ]
  },
  {
   "cell_type": "code",
   "execution_count": 56,
   "id": "0d9995f4",
   "metadata": {},
   "outputs": [],
   "source": [
    "# Turn it off.\n",
    "#@new_decorator\n",
    "def func_needs_decorator():\n",
    "    \n",
    "    print('I want to be decorated!')\n",
    "# Comment it out!"
   ]
  },
  {
   "cell_type": "code",
   "execution_count": 57,
   "id": "d18b66f7",
   "metadata": {},
   "outputs": [
    {
     "name": "stdout",
     "output_type": "stream",
     "text": [
      "I want to be decorated!\n"
     ]
    }
   ],
   "source": [
    "func_needs_decorator()"
   ]
  },
  {
   "cell_type": "code",
   "execution_count": null,
   "id": "c25df2c6",
   "metadata": {},
   "outputs": [],
   "source": [
    "# No longer have that wrap."
   ]
  }
 ],
 "metadata": {
  "kernelspec": {
   "display_name": "Python 3 (ipykernel)",
   "language": "python",
   "name": "python3"
  },
  "language_info": {
   "codemirror_mode": {
    "name": "ipython",
    "version": 3
   },
   "file_extension": ".py",
   "mimetype": "text/x-python",
   "name": "python",
   "nbconvert_exporter": "python",
   "pygments_lexer": "ipython3",
   "version": "3.9.13"
  }
 },
 "nbformat": 4,
 "nbformat_minor": 5
}
