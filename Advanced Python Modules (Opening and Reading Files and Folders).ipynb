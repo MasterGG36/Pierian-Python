{
 "cells": [
  {
   "cell_type": "code",
   "execution_count": 1,
   "id": "1e87ea58",
   "metadata": {},
   "outputs": [
    {
     "data": {
      "text/plain": [
       "'/Users/lesegoselela'"
      ]
     },
     "execution_count": 1,
     "metadata": {},
     "output_type": "execute_result"
    }
   ],
   "source": [
    "pwd"
   ]
  },
  {
   "cell_type": "code",
   "execution_count": 2,
   "id": "4b348201",
   "metadata": {},
   "outputs": [
    {
     "name": "stdout",
     "output_type": "stream",
     "text": [
      "00-Collections-Module.ipynb\r\n",
      "01-Decorators.ipynb\r\n",
      "01-Iterators and Generators.ipynb\r\n",
      "01-Opening-and-Reading-Files-Folders.ipynb\r\n",
      "02-Datetime-Module.ipynb\r\n",
      "02-Decorators Homework.ipynb\r\n",
      "02-Iterators and Generators Homework.ipynb\r\n",
      "02-Milestone Project 1 - Walkthrough Steps Workbook.ipynb\r\n",
      "02-Milestone Project 2 - Walkthrough Steps Workbook.ipynb\r\n",
      "02-Object Oriented Programming Homework.ipynb\r\n",
      "03-Errors and Exceptions Homework - Solution.ipynb\r\n",
      "03-Iterators and Generators Homework - Solution.ipynb\r\n",
      "03-Math-and-Random-Module.ipynb\r\n",
      "04-OOP Challenge.ipynb\r\n",
      "04-Python Debugger (pdb).ipynb\r\n",
      "05-Overview-of-Regular-Expressions.ipynb\r\n",
      "06-Timing your code - timeit.ipynb\r\n",
      "07-Unzipping-and-Zipping-Files.ipynb\r\n",
      "Advanced Python Modules (Opening and Reading Files and Folders).ipynb\r\n",
      "Advanced Python Modules.ipynb\r\n",
      "\u001b[34mApplications\u001b[m\u001b[m/\r\n",
      "Decorators With Python.ipynb\r\n",
      "\u001b[34mDesktop\u001b[m\u001b[m/\r\n",
      "\u001b[34mDocuments\u001b[m\u001b[m/\r\n",
      "\u001b[34mDownloads\u001b[m\u001b[m/\r\n",
      "Errors and Exceptions.ipynb\r\n",
      "Generators With Python.ipynb\r\n",
      "\u001b[34mLibrary\u001b[m\u001b[m/\r\n",
      "Milestone Project #1.ipynb\r\n",
      "Milestone Project #2 - Assignment.ipynb\r\n",
      "Milestone Project #2.ipynb\r\n",
      "\u001b[34mMovies\u001b[m\u001b[m/\r\n",
      "\u001b[34mMusic\u001b[m\u001b[m/\r\n",
      "My Decorators Homework.ipynb\r\n",
      "OOP(Object Oriented Programming).ipynb\r\n",
      "\u001b[34mPictures\u001b[m\u001b[m/\r\n",
      "\u001b[34mPublic\u001b[m\u001b[m/\r\n",
      "\u001b[34mPython 3 Bootcamp\u001b[m\u001b[m/\r\n",
      "Python Bootcamp (Pierian Data).ipynb\r\n",
      "Untitled.ipynb\r\n",
      "Useful_Info_Notebook.ipynb\r\n",
      "\u001b[34mopt\u001b[m\u001b[m/\r\n",
      "testfile\r\n"
     ]
    }
   ],
   "source": [
    "ls"
   ]
  },
  {
   "cell_type": "code",
   "execution_count": 4,
   "id": "bde9ed7f",
   "metadata": {},
   "outputs": [],
   "source": [
    "G = open('practice.txt','w+')\n",
    "G.write('This is a test string')\n",
    "G.close()"
   ]
  },
  {
   "cell_type": "code",
   "execution_count": 5,
   "id": "196506cf",
   "metadata": {},
   "outputs": [],
   "source": [
    "# How to use the OS Module.\n",
    "# Allows you to do things like get the current working directory, list all the files in a directory)\n",
    "import os"
   ]
  },
  {
   "cell_type": "code",
   "execution_count": 6,
   "id": "59e13b16",
   "metadata": {},
   "outputs": [
    {
     "data": {
      "text/plain": [
       "'/Users/lesegoselela'"
      ]
     },
     "execution_count": 6,
     "metadata": {},
     "output_type": "execute_result"
    }
   ],
   "source": [
    "# reports back current working directory, and this will work in any python script.\n",
    "os.getcwd()"
   ]
  },
  {
   "cell_type": "code",
   "execution_count": 9,
   "id": "ee1161c3",
   "metadata": {},
   "outputs": [
    {
     "data": {
      "text/plain": [
       "['Useful_Info_Notebook.ipynb',\n",
       " '.config',\n",
       " 'Music',\n",
       " '.condarc',\n",
       " 'Advanced Python Modules.ipynb',\n",
       " '02-Milestone Project 1 - Walkthrough Steps Workbook.ipynb',\n",
       " 'Errors and Exceptions.ipynb',\n",
       " '04-OOP Challenge.ipynb',\n",
       " '.DS_Store',\n",
       " '01-Iterators and Generators.ipynb',\n",
       " '.CFUserTextEncoding',\n",
       " '.xonshrc',\n",
       " 'Untitled.ipynb',\n",
       " '.zshrc',\n",
       " 'Pictures',\n",
       " 'practice.txt',\n",
       " '00-Collections-Module.ipynb',\n",
       " '.ipython',\n",
       " 'Desktop',\n",
       " 'Library',\n",
       " '06-Timing your code - timeit.ipynb',\n",
       " 'OOP(Object Oriented Programming).ipynb',\n",
       " '03-Math-and-Random-Module.ipynb',\n",
       " 'Decorators With Python.ipynb',\n",
       " 'Milestone Project #2 - Assignment.ipynb',\n",
       " '03-Errors and Exceptions Homework - Solution.ipynb',\n",
       " '.cups',\n",
       " '01-Decorators.ipynb',\n",
       " '.bash_sessions',\n",
       " 'Advanced Python Modules (Opening and Reading Files and Folders).ipynb',\n",
       " 'Milestone Project #1.ipynb',\n",
       " '02-Datetime-Module.ipynb',\n",
       " 'My Decorators Homework.ipynb',\n",
       " 'Public',\n",
       " '03-Iterators and Generators Homework - Solution.ipynb',\n",
       " '05-Overview-of-Regular-Expressions.ipynb',\n",
       " '.tcshrc',\n",
       " '.anaconda',\n",
       " 'Movies',\n",
       " 'Applications',\n",
       " '01-Opening-and-Reading-Files-Folders.ipynb',\n",
       " 'opt',\n",
       " '.Trash',\n",
       " '.ipynb_checkpoints',\n",
       " 'Generators With Python.ipynb',\n",
       " 'Milestone Project #2.ipynb',\n",
       " '02-Object Oriented Programming Homework.ipynb',\n",
       " '.jupyter',\n",
       " 'Python Bootcamp (Pierian Data).ipynb',\n",
       " 'Documents',\n",
       " '02-Decorators Homework.ipynb',\n",
       " 'Python 3 Bootcamp',\n",
       " '.vscode',\n",
       " '.bash_profile',\n",
       " '02-Milestone Project 2 - Walkthrough Steps Workbook.ipynb',\n",
       " 'Downloads',\n",
       " '.python_history',\n",
       " '.continuum',\n",
       " 'testfile',\n",
       " '04-Python Debugger (pdb).ipynb',\n",
       " '.bash_history',\n",
       " '.conda',\n",
       " '02-Iterators and Generators Homework.ipynb',\n",
       " '07-Unzipping-and-Zipping-Files.ipynb']"
      ]
     },
     "execution_count": 9,
     "metadata": {},
     "output_type": "execute_result"
    }
   ],
   "source": [
    "os.listdir()"
   ]
  },
  {
   "cell_type": "code",
   "execution_count": 15,
   "id": "38656444",
   "metadata": {},
   "outputs": [
    {
     "data": {
      "text/plain": [
       "['.localized', 'lesegoselela', 'Shared', 'Guest']"
      ]
     },
     "execution_count": 15,
     "metadata": {},
     "output_type": "execute_result"
    }
   ],
   "source": [
    "os.listdir('/Users')"
   ]
  },
  {
   "cell_type": "code",
   "execution_count": 16,
   "id": "fff85bea",
   "metadata": {},
   "outputs": [],
   "source": [
    "# Import the shell utilities module(shutil): Allows you to move file in different locations.\n",
    "import shutil"
   ]
  },
  {
   "cell_type": "code",
   "execution_count": 18,
   "id": "408f28ec",
   "metadata": {},
   "outputs": [
    {
     "data": {
      "text/plain": [
       "'/Users/lesegoselela/Desktop/practice.txt'"
      ]
     },
     "execution_count": 18,
     "metadata": {},
     "output_type": "execute_result"
    }
   ],
   "source": [
    "# How you move a file. Now it reports back that the file is located by the desktop.\n",
    "shutil.move('practice.txt','/Users/lesegoselela/Desktop')"
   ]
  },
  {
   "cell_type": "code",
   "execution_count": 19,
   "id": "8dfb1137",
   "metadata": {},
   "outputs": [
    {
     "data": {
      "text/plain": [
       "['simple_one.py',\n",
       " 'one.py',\n",
       " 'test_cap.py',\n",
       " '05-Design',\n",
       " '.DS_Store',\n",
       " '.localized',\n",
       " 'cap.py',\n",
       " 'test_unittest.py',\n",
       " 'practice.txt',\n",
       " 'two.py',\n",
       " '__pycache__',\n",
       " 'myprogram.py',\n",
       " '..ft_print_alphabet.c.swo.icloud',\n",
       " 'MyMainPackage',\n",
       " '.lets-go.ics.icloud',\n",
       " 'mymodule.py',\n",
       " 'GG Desktop',\n",
       " 'Registration Station Group assignment ',\n",
       " '.we-hungry.ics.icloud']"
      ]
     },
     "execution_count": 19,
     "metadata": {},
     "output_type": "execute_result"
    }
   ],
   "source": [
    "os.listdir('/Users/lesegoselela/Desktop')"
   ]
  },
  {
   "cell_type": "code",
   "execution_count": 20,
   "id": "66c1f9b1",
   "metadata": {},
   "outputs": [],
   "source": [
    "# Able to take a file and programatically move it to a different location on my computer."
   ]
  },
  {
   "cell_type": "code",
   "execution_count": 21,
   "id": "e1ded719",
   "metadata": {},
   "outputs": [],
   "source": [
    "# Deleting Files: Warning shutil.rmtree(path) this is the most dangerous, as it will remove all files and folders contained in the path.(Unrecoverable)"
   ]
  },
  {
   "cell_type": "code",
   "execution_count": 22,
   "id": "04746076",
   "metadata": {},
   "outputs": [],
   "source": [
    "# send2trash A safer alternative that sends deleted files to the trash bin instead of permanent removal.\n",
    "import send2trash"
   ]
  },
  {
   "cell_type": "code",
   "execution_count": 23,
   "id": "d42df998",
   "metadata": {},
   "outputs": [
    {
     "data": {
      "text/plain": [
       "['Useful_Info_Notebook.ipynb',\n",
       " '.config',\n",
       " 'Music',\n",
       " '.condarc',\n",
       " 'Advanced Python Modules.ipynb',\n",
       " '02-Milestone Project 1 - Walkthrough Steps Workbook.ipynb',\n",
       " 'Errors and Exceptions.ipynb',\n",
       " '04-OOP Challenge.ipynb',\n",
       " '.DS_Store',\n",
       " '01-Iterators and Generators.ipynb',\n",
       " '.CFUserTextEncoding',\n",
       " '.xonshrc',\n",
       " 'Untitled.ipynb',\n",
       " '.zshrc',\n",
       " 'Pictures',\n",
       " '00-Collections-Module.ipynb',\n",
       " '.ipython',\n",
       " 'Desktop',\n",
       " 'Library',\n",
       " '06-Timing your code - timeit.ipynb',\n",
       " 'OOP(Object Oriented Programming).ipynb',\n",
       " '03-Math-and-Random-Module.ipynb',\n",
       " 'Decorators With Python.ipynb',\n",
       " 'Milestone Project #2 - Assignment.ipynb',\n",
       " '03-Errors and Exceptions Homework - Solution.ipynb',\n",
       " '.cups',\n",
       " '01-Decorators.ipynb',\n",
       " '.bash_sessions',\n",
       " 'Advanced Python Modules (Opening and Reading Files and Folders).ipynb',\n",
       " 'Milestone Project #1.ipynb',\n",
       " '02-Datetime-Module.ipynb',\n",
       " 'My Decorators Homework.ipynb',\n",
       " 'Public',\n",
       " '03-Iterators and Generators Homework - Solution.ipynb',\n",
       " '05-Overview-of-Regular-Expressions.ipynb',\n",
       " '.tcshrc',\n",
       " '.anaconda',\n",
       " 'Movies',\n",
       " 'Applications',\n",
       " '01-Opening-and-Reading-Files-Folders.ipynb',\n",
       " 'opt',\n",
       " '.Trash',\n",
       " '.ipynb_checkpoints',\n",
       " 'Generators With Python.ipynb',\n",
       " 'Milestone Project #2.ipynb',\n",
       " '02-Object Oriented Programming Homework.ipynb',\n",
       " '.jupyter',\n",
       " 'Python Bootcamp (Pierian Data).ipynb',\n",
       " 'Documents',\n",
       " '02-Decorators Homework.ipynb',\n",
       " 'Python 3 Bootcamp',\n",
       " '.vscode',\n",
       " '.bash_profile',\n",
       " '02-Milestone Project 2 - Walkthrough Steps Workbook.ipynb',\n",
       " 'Downloads',\n",
       " '.python_history',\n",
       " '.continuum',\n",
       " 'testfile',\n",
       " '04-Python Debugger (pdb).ipynb',\n",
       " '.bash_history',\n",
       " '.conda',\n",
       " '02-Iterators and Generators Homework.ipynb',\n",
       " '07-Unzipping-and-Zipping-Files.ipynb']"
      ]
     },
     "execution_count": 23,
     "metadata": {},
     "output_type": "execute_result"
    }
   ],
   "source": [
    "os.listdir()"
   ]
  },
  {
   "cell_type": "code",
   "execution_count": 25,
   "id": "8e4d0da0",
   "metadata": {},
   "outputs": [
    {
     "data": {
      "text/plain": [
       "'/Users/lesegoselela'"
      ]
     },
     "execution_count": 25,
     "metadata": {},
     "output_type": "execute_result"
    }
   ],
   "source": [
    "pwd"
   ]
  },
  {
   "cell_type": "code",
   "execution_count": 26,
   "id": "5e7612e6",
   "metadata": {},
   "outputs": [
    {
     "name": "stdout",
     "output_type": "stream",
     "text": [
      "/Users/lesegoselela/Desktop\n"
     ]
    }
   ],
   "source": [
    "cd Desktop/"
   ]
  },
  {
   "cell_type": "code",
   "execution_count": 27,
   "id": "6d59d739",
   "metadata": {},
   "outputs": [
    {
     "data": {
      "text/plain": [
       "'/Users/lesegoselela/practice.txt'"
      ]
     },
     "execution_count": 27,
     "metadata": {},
     "output_type": "execute_result"
    }
   ],
   "source": [
    "shutil.move('practice.txt','/Users/lesegoselela')"
   ]
  },
  {
   "cell_type": "code",
   "execution_count": 29,
   "id": "60f3a273",
   "metadata": {},
   "outputs": [
    {
     "name": "stdout",
     "output_type": "stream",
     "text": [
      "/Users/lesegoselela\n"
     ]
    }
   ],
   "source": [
    "cd /Users/lesegoselela"
   ]
  },
  {
   "cell_type": "code",
   "execution_count": 30,
   "id": "02e6c708",
   "metadata": {},
   "outputs": [
    {
     "data": {
      "text/plain": [
       "'/Users/lesegoselela'"
      ]
     },
     "execution_count": 30,
     "metadata": {},
     "output_type": "execute_result"
    }
   ],
   "source": [
    "pwd"
   ]
  },
  {
   "cell_type": "code",
   "execution_count": 31,
   "id": "a3c8a896",
   "metadata": {},
   "outputs": [
    {
     "name": "stdout",
     "output_type": "stream",
     "text": [
      "00-Collections-Module.ipynb\r\n",
      "01-Decorators.ipynb\r\n",
      "01-Iterators and Generators.ipynb\r\n",
      "01-Opening-and-Reading-Files-Folders.ipynb\r\n",
      "02-Datetime-Module.ipynb\r\n",
      "02-Decorators Homework.ipynb\r\n",
      "02-Iterators and Generators Homework.ipynb\r\n",
      "02-Milestone Project 1 - Walkthrough Steps Workbook.ipynb\r\n",
      "02-Milestone Project 2 - Walkthrough Steps Workbook.ipynb\r\n",
      "02-Object Oriented Programming Homework.ipynb\r\n",
      "03-Errors and Exceptions Homework - Solution.ipynb\r\n",
      "03-Iterators and Generators Homework - Solution.ipynb\r\n",
      "03-Math-and-Random-Module.ipynb\r\n",
      "04-OOP Challenge.ipynb\r\n",
      "04-Python Debugger (pdb).ipynb\r\n",
      "05-Overview-of-Regular-Expressions.ipynb\r\n",
      "06-Timing your code - timeit.ipynb\r\n",
      "07-Unzipping-and-Zipping-Files.ipynb\r\n",
      "Advanced Python Modules (Opening and Reading Files and Folders).ipynb\r\n",
      "Advanced Python Modules.ipynb\r\n",
      "\u001b[34mApplications\u001b[m\u001b[m/\r\n",
      "Decorators With Python.ipynb\r\n",
      "\u001b[34mDesktop\u001b[m\u001b[m/\r\n",
      "\u001b[34mDocuments\u001b[m\u001b[m/\r\n",
      "\u001b[34mDownloads\u001b[m\u001b[m/\r\n",
      "Errors and Exceptions.ipynb\r\n",
      "Generators With Python.ipynb\r\n",
      "\u001b[34mLibrary\u001b[m\u001b[m/\r\n",
      "Milestone Project #1.ipynb\r\n",
      "Milestone Project #2 - Assignment.ipynb\r\n",
      "Milestone Project #2.ipynb\r\n",
      "\u001b[34mMovies\u001b[m\u001b[m/\r\n",
      "\u001b[34mMusic\u001b[m\u001b[m/\r\n",
      "My Decorators Homework.ipynb\r\n",
      "OOP(Object Oriented Programming).ipynb\r\n",
      "\u001b[34mPictures\u001b[m\u001b[m/\r\n",
      "\u001b[34mPublic\u001b[m\u001b[m/\r\n",
      "\u001b[34mPython 3 Bootcamp\u001b[m\u001b[m/\r\n",
      "Python Bootcamp (Pierian Data).ipynb\r\n",
      "Untitled.ipynb\r\n",
      "Useful_Info_Notebook.ipynb\r\n",
      "\u001b[34mopt\u001b[m\u001b[m/\r\n",
      "practice.txt\r\n",
      "testfile\r\n"
     ]
    }
   ],
   "source": [
    "ls"
   ]
  },
  {
   "cell_type": "code",
   "execution_count": 32,
   "id": "fb865b00",
   "metadata": {},
   "outputs": [],
   "source": [
    "send2trash.send2trash('practice.txt')"
   ]
  },
  {
   "cell_type": "code",
   "execution_count": 34,
   "id": "3424787d",
   "metadata": {},
   "outputs": [
    {
     "data": {
      "text/plain": [
       "['Useful_Info_Notebook.ipynb',\n",
       " 'Example_Top_Level',\n",
       " '.config',\n",
       " 'Music',\n",
       " '.condarc',\n",
       " 'Advanced Python Modules.ipynb',\n",
       " '02-Milestone Project 1 - Walkthrough Steps Workbook.ipynb',\n",
       " 'Errors and Exceptions.ipynb',\n",
       " '04-OOP Challenge.ipynb',\n",
       " '.DS_Store',\n",
       " '01-Iterators and Generators.ipynb',\n",
       " '.CFUserTextEncoding',\n",
       " '.xonshrc',\n",
       " 'Untitled.ipynb',\n",
       " '.zshrc',\n",
       " 'Pictures',\n",
       " '00-Collections-Module.ipynb',\n",
       " '.ipython',\n",
       " 'Desktop',\n",
       " 'Library',\n",
       " '06-Timing your code - timeit.ipynb',\n",
       " 'OOP(Object Oriented Programming).ipynb',\n",
       " '03-Math-and-Random-Module.ipynb',\n",
       " 'Decorators With Python.ipynb',\n",
       " 'Milestone Project #2 - Assignment.ipynb',\n",
       " '03-Errors and Exceptions Homework - Solution.ipynb',\n",
       " '.cups',\n",
       " '01-Decorators.ipynb',\n",
       " '.bash_sessions',\n",
       " 'Advanced Python Modules (Opening and Reading Files and Folders).ipynb',\n",
       " 'Milestone Project #1.ipynb',\n",
       " '02-Datetime-Module.ipynb',\n",
       " 'My Decorators Homework.ipynb',\n",
       " 'Public',\n",
       " '03-Iterators and Generators Homework - Solution.ipynb',\n",
       " '05-Overview-of-Regular-Expressions.ipynb',\n",
       " '.tcshrc',\n",
       " '.anaconda',\n",
       " 'Movies',\n",
       " 'Applications',\n",
       " '01-Opening-and-Reading-Files-Folders.ipynb',\n",
       " 'opt',\n",
       " '.Trash',\n",
       " '.ipynb_checkpoints',\n",
       " 'Generators With Python.ipynb',\n",
       " 'Milestone Project #2.ipynb',\n",
       " '02-Object Oriented Programming Homework.ipynb',\n",
       " '.jupyter',\n",
       " 'Python Bootcamp (Pierian Data).ipynb',\n",
       " 'Documents',\n",
       " '02-Decorators Homework.ipynb',\n",
       " 'Python 3 Bootcamp',\n",
       " '.vscode',\n",
       " '.bash_profile',\n",
       " '02-Milestone Project 2 - Walkthrough Steps Workbook.ipynb',\n",
       " 'Downloads',\n",
       " '.python_history',\n",
       " '.continuum',\n",
       " 'testfile',\n",
       " '04-Python Debugger (pdb).ipynb',\n",
       " '.bash_history',\n",
       " '.conda',\n",
       " '02-Iterators and Generators Homework.ipynb',\n",
       " '07-Unzipping-and-Zipping-Files.ipynb']"
      ]
     },
     "execution_count": 34,
     "metadata": {},
     "output_type": "execute_result"
    }
   ],
   "source": [
    "os.listdir()"
   ]
  },
  {
   "cell_type": "code",
   "execution_count": 35,
   "id": "8ee19bf5",
   "metadata": {},
   "outputs": [
    {
     "data": {
      "text/plain": [
       "'/Users/lesegoselela'"
      ]
     },
     "execution_count": 35,
     "metadata": {},
     "output_type": "execute_result"
    }
   ],
   "source": [
    "os.getcwd()"
   ]
  },
  {
   "cell_type": "code",
   "execution_count": 36,
   "id": "a836f61f",
   "metadata": {},
   "outputs": [
    {
     "name": "stdout",
     "output_type": "stream",
     "text": [
      "Currently looking at /Users/lesegoselela/Example_Top_Level\n",
      "\n",
      "\n",
      "The sub-directories are: \n",
      "\tsub-directory: .ipynb_checkpoints\n",
      "\tsub-directory: Mid-Example-Two\n",
      "\tsub-directory: Mid-Example-One\n",
      "\n",
      "\n",
      "The files are: \n",
      "\tfiles: .DS_Store\n",
      "\tfiles: Mid-Example.txt\n",
      "\n",
      "\n",
      "Currently looking at /Users/lesegoselela/Example_Top_Level/.ipynb_checkpoints\n",
      "\n",
      "\n",
      "The sub-directories are: \n",
      "\n",
      "\n",
      "The files are: \n",
      "\n",
      "\n",
      "Currently looking at /Users/lesegoselela/Example_Top_Level/Mid-Example-Two\n",
      "\n",
      "\n",
      "The sub-directories are: \n",
      "\n",
      "\n",
      "The files are: \n",
      "\n",
      "\n",
      "Currently looking at /Users/lesegoselela/Example_Top_Level/Mid-Example-One\n",
      "\n",
      "\n",
      "The sub-directories are: \n",
      "\tsub-directory: .ipynb_checkpoints\n",
      "\tsub-directory: Bottom-Level-Two\n",
      "\tsub-directory: Bottom-Level-One\n",
      "\n",
      "\n",
      "The files are: \n",
      "\tfiles: .DS_Store\n",
      "\tfiles: Mid-Level-Doc.txt\n",
      "\n",
      "\n",
      "Currently looking at /Users/lesegoselela/Example_Top_Level/Mid-Example-One/.ipynb_checkpoints\n",
      "\n",
      "\n",
      "The sub-directories are: \n",
      "\n",
      "\n",
      "The files are: \n",
      "\n",
      "\n",
      "Currently looking at /Users/lesegoselela/Example_Top_Level/Mid-Example-One/Bottom-Level-Two\n",
      "\n",
      "\n",
      "The sub-directories are: \n",
      "\n",
      "\n",
      "The files are: \n",
      "\tfiles: Bottom-Text-Two.txt\n",
      "\n",
      "\n",
      "Currently looking at /Users/lesegoselela/Example_Top_Level/Mid-Example-One/Bottom-Level-One\n",
      "\n",
      "\n",
      "The sub-directories are: \n",
      "\n",
      "\n",
      "The files are: \n",
      "\tfiles: One_Text.txt\n",
      "\n",
      "\n"
     ]
    }
   ],
   "source": [
    "file_path = '/Users/lesegoselela/Example_Top_Level'\n",
    "for folder, sub_folders, files in os.walk(file_path): # os.walk() will make a tree and is going to look at every single thing inside of this file path location.\n",
    "    # Its going to report back the folder\n",
    "    print(f\"Currently looking at {folder}\")\n",
    "    print('\\n')\n",
    "    print(\"The sub-directories are: \")\n",
    "    for sub_fold in sub_folders: # Then go through each sub_folder\n",
    "        print(f\"\\tsub-directory: {sub_fold}\")\n",
    "        \n",
    "    print('\\n')\n",
    "    print(\"The files are: \")\n",
    "    for file in files:\n",
    "        print(f\"\\tfiles: {file}\")\n",
    "    print('\\n')"
   ]
  },
  {
   "cell_type": "code",
   "execution_count": null,
   "id": "1e68f058",
   "metadata": {},
   "outputs": [],
   "source": []
  }
 ],
 "metadata": {
  "kernelspec": {
   "display_name": "Python 3 (ipykernel)",
   "language": "python",
   "name": "python3"
  },
  "language_info": {
   "codemirror_mode": {
    "name": "ipython",
    "version": 3
   },
   "file_extension": ".py",
   "mimetype": "text/x-python",
   "name": "python",
   "nbconvert_exporter": "python",
   "pygments_lexer": "ipython3",
   "version": "3.9.13"
  }
 },
 "nbformat": 4,
 "nbformat_minor": 5
}
