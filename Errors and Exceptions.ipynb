{
 "cells": [
  {
   "cell_type": "code",
   "execution_count": 1,
   "id": "07af9898",
   "metadata": {},
   "outputs": [],
   "source": [
    "def add(n1,n2):\n",
    "    print(n1 + n2)"
   ]
  },
  {
   "cell_type": "code",
   "execution_count": 2,
   "id": "2772011f",
   "metadata": {},
   "outputs": [
    {
     "name": "stdout",
     "output_type": "stream",
     "text": [
      "30\n"
     ]
    }
   ],
   "source": [
    "add(10,20)"
   ]
  },
  {
   "cell_type": "code",
   "execution_count": 3,
   "id": "2d8ef38d",
   "metadata": {},
   "outputs": [],
   "source": [
    "number1 = 10"
   ]
  },
  {
   "cell_type": "code",
   "execution_count": 4,
   "id": "ccd8a572",
   "metadata": {},
   "outputs": [
    {
     "name": "stdout",
     "output_type": "stream",
     "text": [
      "Please provide a number: 20\n"
     ]
    }
   ],
   "source": [
    "number2 = input(\"Please provide a number: \")"
   ]
  },
  {
   "cell_type": "code",
   "execution_count": 5,
   "id": "1ea6bc69",
   "metadata": {},
   "outputs": [
    {
     "ename": "TypeError",
     "evalue": "unsupported operand type(s) for +: 'int' and 'str'",
     "output_type": "error",
     "traceback": [
      "\u001b[0;31m---------------------------------------------------------------------------\u001b[0m",
      "\u001b[0;31mTypeError\u001b[0m                                 Traceback (most recent call last)",
      "\u001b[0;32m/var/folders/c9/nlwytfvs6tjf2sg6vj49578w0000gn/T/ipykernel_9321/519729090.py\u001b[0m in \u001b[0;36m<module>\u001b[0;34m\u001b[0m\n\u001b[1;32m      1\u001b[0m \u001b[0;31m# Hey you have a \"type error\"(specific exception)\u001b[0m\u001b[0;34m\u001b[0m\u001b[0;34m\u001b[0m\u001b[0m\n\u001b[1;32m      2\u001b[0m \u001b[0;31m# unsupported operand type(s) for +: 'int' and 'str' (means that I cant add a string and integer together)\u001b[0m\u001b[0;34m\u001b[0m\u001b[0;34m\u001b[0m\u001b[0m\n\u001b[0;32m----> 3\u001b[0;31m \u001b[0madd\u001b[0m\u001b[0;34m(\u001b[0m\u001b[0mnumber1\u001b[0m\u001b[0;34m,\u001b[0m\u001b[0mnumber2\u001b[0m\u001b[0;34m)\u001b[0m\u001b[0;34m\u001b[0m\u001b[0;34m\u001b[0m\u001b[0m\n\u001b[0m\u001b[1;32m      4\u001b[0m \u001b[0mprint\u001b[0m\u001b[0;34m(\u001b[0m\u001b[0;34m\"Excpetion Occured!\"\u001b[0m\u001b[0;34m)\u001b[0m\u001b[0;34m\u001b[0m\u001b[0;34m\u001b[0m\u001b[0m\n",
      "\u001b[0;32m/var/folders/c9/nlwytfvs6tjf2sg6vj49578w0000gn/T/ipykernel_9321/3051426637.py\u001b[0m in \u001b[0;36madd\u001b[0;34m(n1, n2)\u001b[0m\n\u001b[1;32m      1\u001b[0m \u001b[0;32mdef\u001b[0m \u001b[0madd\u001b[0m\u001b[0;34m(\u001b[0m\u001b[0mn1\u001b[0m\u001b[0;34m,\u001b[0m\u001b[0mn2\u001b[0m\u001b[0;34m)\u001b[0m\u001b[0;34m:\u001b[0m\u001b[0;34m\u001b[0m\u001b[0;34m\u001b[0m\u001b[0m\n\u001b[0;32m----> 2\u001b[0;31m     \u001b[0mprint\u001b[0m\u001b[0;34m(\u001b[0m\u001b[0mn1\u001b[0m \u001b[0;34m+\u001b[0m \u001b[0mn2\u001b[0m\u001b[0;34m)\u001b[0m\u001b[0;34m\u001b[0m\u001b[0;34m\u001b[0m\u001b[0m\n\u001b[0m",
      "\u001b[0;31mTypeError\u001b[0m: unsupported operand type(s) for +: 'int' and 'str'"
     ]
    }
   ],
   "source": [
    "# Hey you have a \"type error\"(specific exception)\n",
    "# unsupported operand type(s) for +: 'int' and 'str' (means that I cant add a string and integer together)\n",
    "add(number1,number2)\n",
    "print(\"Excpetion Occured!\")"
   ]
  },
  {
   "cell_type": "code",
   "execution_count": 6,
   "id": "d52d4b12",
   "metadata": {},
   "outputs": [],
   "source": [
    "try:\n",
    "    # Attempt this code\n",
    "    # may have an error\n",
    "    result = 10 + 10\n",
    "except:\n",
    "    print(\"Notice, you are not adding correctly!\")"
   ]
  },
  {
   "cell_type": "code",
   "execution_count": 7,
   "id": "41ec683d",
   "metadata": {},
   "outputs": [
    {
     "data": {
      "text/plain": [
       "20"
      ]
     },
     "execution_count": 7,
     "metadata": {},
     "output_type": "execute_result"
    }
   ],
   "source": [
    "result"
   ]
  },
  {
   "cell_type": "code",
   "execution_count": 8,
   "id": "9ebb6164",
   "metadata": {},
   "outputs": [
    {
     "name": "stdout",
     "output_type": "stream",
     "text": [
      "Notice, you are not adding correctly!\n"
     ]
    }
   ],
   "source": [
    "try:\n",
    "    # Attempt this code\n",
    "    # may have an error\n",
    "    result = 10 + '10'\n",
    "except:\n",
    "    print(\"Notice, you are not adding correctly!\")\n",
    "else:\n",
    "    print(\"Added well!\")\n",
    "    print(result)\n",
    "# Error induced"
   ]
  },
  {
   "cell_type": "code",
   "execution_count": 9,
   "id": "c99e9cd7",
   "metadata": {},
   "outputs": [
    {
     "name": "stdout",
     "output_type": "stream",
     "text": [
      "Added well!\n",
      "20\n"
     ]
    }
   ],
   "source": [
    "try:\n",
    "    # Attempt this code\n",
    "    # may have an error\n",
    "    result = 10 + 10\n",
    "except:\n",
    "    print(\"Notice, you are not adding correctly!\")\n",
    "else:\n",
    "    print(\"Added well!\")\n",
    "    print(result)\n",
    "# Error corrected"
   ]
  },
  {
   "cell_type": "code",
   "execution_count": 10,
   "id": "09a3b314",
   "metadata": {},
   "outputs": [
    {
     "name": "stdout",
     "output_type": "stream",
     "text": [
      "I always grow\n"
     ]
    }
   ],
   "source": [
    "try:\n",
    "    # open up testfile, and call write on it\n",
    "    f = open('testfile','w')\n",
    "    f.write(\"Write a test line\")\n",
    "except TypeError:\n",
    "    # This does not occur\n",
    "    print(\"There is a Type error!\")\n",
    "except OSError:\n",
    "    # This does not occur\n",
    "    print(\"There is an OS error\")\n",
    "finally:\n",
    "    # This is executed\n",
    "    print(\"I always grow\")"
   ]
  },
  {
   "cell_type": "code",
   "execution_count": 11,
   "id": "363e5892",
   "metadata": {},
   "outputs": [
    {
     "name": "stdout",
     "output_type": "stream",
     "text": [
      "There is an OS error\n",
      "I always grow\n"
     ]
    }
   ],
   "source": [
    "try:\n",
    "    # open up testfile, and call write on it\n",
    "    f = open('testfile','r')\n",
    "    f.write(\"Write a test line\")\n",
    "except TypeError:\n",
    "    # This does not occur\n",
    "    print(\"There is a Type error!\")\n",
    "except OSError:\n",
    "    # This is executed, read and write error.\n",
    "    print(\"There is an OS error\")\n",
    "finally:\n",
    "    # This is executed\n",
    "    print(\"I always grow\")\n",
    "# Error induced"
   ]
  },
  {
   "cell_type": "code",
   "execution_count": 12,
   "id": "044c1115",
   "metadata": {},
   "outputs": [
    {
     "name": "stdout",
     "output_type": "stream",
     "text": [
      "All other exceptions!\n",
      "I always grow\n"
     ]
    }
   ],
   "source": [
    "try:\n",
    "    # open up testfile, and call write on it\n",
    "    f = open('testfile','r')\n",
    "    f.write(\"Write a test line\")\n",
    "except TypeError:\n",
    "    # This does not occur\n",
    "    print(\"There is a Type error!\")\n",
    "except:\n",
    "    # This is executed, read and write error.\n",
    "    print(\"All other exceptions!\")\n",
    "finally:\n",
    "    # This is executed\n",
    "    print(\"I always grow\")\n",
    "# Error induced"
   ]
  },
  {
   "cell_type": "code",
   "execution_count": 13,
   "id": "3b46ecc7",
   "metadata": {},
   "outputs": [
    {
     "name": "stdout",
     "output_type": "stream",
     "text": [
      "I always run\n"
     ]
    }
   ],
   "source": [
    "try:\n",
    "    # open up testfile, and call write on it\n",
    "    f = open('testfile','w')\n",
    "    f.write(\"Write a test line\")\n",
    "except TypeError:\n",
    "    # This does not occur\n",
    "    print(\"There is a Type error!\")\n",
    "except:\n",
    "    # This is executed, read and write error.\n",
    "    print(\"All other exceptions!\")\n",
    "finally:\n",
    "    # This is executed\n",
    "    print(\"I always run\")\n",
    "# Error removed"
   ]
  },
  {
   "cell_type": "code",
   "execution_count": 14,
   "id": "f9a92eca",
   "metadata": {},
   "outputs": [],
   "source": [
    "def ask_for_int():\n",
    "    try:\n",
    "        result = int(input(\"Please provide number:  \"))\n",
    "    except:\n",
    "        print(\"Sorry, that is not a number!\")\n",
    "    finally:\n",
    "        print(\"End of Try/Except/Finally\")"
   ]
  },
  {
   "cell_type": "code",
   "execution_count": 15,
   "id": "580f6bc8",
   "metadata": {},
   "outputs": [
    {
     "name": "stdout",
     "output_type": "stream",
     "text": [
      "Please provide number:  Jesus\n",
      "Sorry, that is not a number!\n",
      "End of Try/Except/Finally\n"
     ]
    }
   ],
   "source": [
    "ask_for_int()"
   ]
  },
  {
   "cell_type": "code",
   "execution_count": 16,
   "id": "ca515212",
   "metadata": {},
   "outputs": [],
   "source": [
    "def ask_for_int(): # Now we will use a while loop to continually 'try' the result block, and then axcept if there is an error there.\n",
    "    while True: # Always cautious using 'while True' as you will need a break statement somewhere \n",
    "        try:\n",
    "            result = int(input(\"Please provide number:  \"))\n",
    "        except:\n",
    "            print(\"Sorry, that is not a number!\")\n",
    "            continue\n",
    "        else:\n",
    "            print(\"Accepted, thank you\")\n",
    "            break\n",
    "        finally:\n",
    "            print(\"End of Try/Except/Finally\")\n",
    "            print(\"I always run at the end.\")"
   ]
  },
  {
   "cell_type": "code",
   "execution_count": 17,
   "id": "dff8e488",
   "metadata": {},
   "outputs": [
    {
     "name": "stdout",
     "output_type": "stream",
     "text": [
      "Please provide number:  777\n",
      "Accepted, thank you\n",
      "End of Try/Except/Finally\n",
      "I always run at the end.\n"
     ]
    }
   ],
   "source": [
    "ask_for_int()"
   ]
  },
  {
   "cell_type": "code",
   "execution_count": 18,
   "id": "a292d1ff",
   "metadata": {},
   "outputs": [
    {
     "name": "stdout",
     "output_type": "stream",
     "text": [
      "Please provide number:  GG\n",
      "Sorry, that is not a number!\n",
      "End of Try/Except/Finally\n",
      "I always run at the end.\n",
      "Please provide number:  Him\n",
      "Sorry, that is not a number!\n",
      "End of Try/Except/Finally\n",
      "I always run at the end.\n",
      "Please provide number:  36\n",
      "Accepted, thank you\n",
      "End of Try/Except/Finally\n",
      "I always run at the end.\n"
     ]
    }
   ],
   "source": [
    "ask_for_int()"
   ]
  },
  {
   "cell_type": "code",
   "execution_count": 20,
   "id": "09f5b4ab",
   "metadata": {},
   "outputs": [
    {
     "name": "stdout",
     "output_type": "stream",
     "text": [
      "Type error.\n"
     ]
    }
   ],
   "source": [
    "# Errors & Exceptions Homework\n",
    "try:\n",
    "    for i in ['a','b','c']:\n",
    "        print(i**2)\n",
    "except TypeError: # Catch the specific type error\n",
    "    print(\"Type error.\")"
   ]
  },
  {
   "cell_type": "code",
   "execution_count": 21,
   "id": "94452da3",
   "metadata": {},
   "outputs": [
    {
     "name": "stdout",
     "output_type": "stream",
     "text": [
      "Error.\n"
     ]
    }
   ],
   "source": [
    "try:\n",
    "    for i in ['a','b','c']:\n",
    "        print(i**2)\n",
    "except: # If you dont want to catch any specific area\n",
    "    print(\"Error.\")"
   ]
  },
  {
   "cell_type": "code",
   "execution_count": 28,
   "id": "595461e6",
   "metadata": {},
   "outputs": [
    {
     "name": "stdout",
     "output_type": "stream",
     "text": [
      "Division by zero error.\n",
      "All Done!\n"
     ]
    }
   ],
   "source": [
    "try:\n",
    "    x = 5\n",
    "    y = 0\n",
    "    z = x/y\n",
    "except:\n",
    "    print(\"Division by zero error.\")\n",
    "finally:\n",
    "    print(\"All Done!\")"
   ]
  },
  {
   "cell_type": "code",
   "execution_count": 32,
   "id": "6a348830",
   "metadata": {},
   "outputs": [],
   "source": [
    "def ask():\n",
    "    # Version 1\n",
    "    while True:\n",
    "        try:\n",
    "            num = int(input(\"Input a integer:  \"))\n",
    "        except:\n",
    "            print(\"Please try again: \\n\")\n",
    "            continue\n",
    "        else:\n",
    "            break\n",
    "    print(\"Thank you, your number squared is: {}\".format(num ** 2))"
   ]
  },
  {
   "cell_type": "code",
   "execution_count": 35,
   "id": "c29ad33c",
   "metadata": {},
   "outputs": [
    {
     "name": "stdout",
     "output_type": "stream",
     "text": [
      "Input a integer:  2\n",
      "Thank you, your number squared is: 4\n"
     ]
    }
   ],
   "source": [
    "ask()"
   ]
  },
  {
   "cell_type": "code",
   "execution_count": 38,
   "id": "b9199322",
   "metadata": {},
   "outputs": [],
   "source": [
    "def ask():\n",
    "    # Version 2\n",
    "    waiting = True\n",
    "    # Assign waiting to True\n",
    "    while waiting:\n",
    "        try:\n",
    "            num = int(input(\"Input a integer:  \"))\n",
    "        except:\n",
    "            print(\"Please try again: \\n\")\n",
    "            continue\n",
    "        else:\n",
    "            waiting = False\n",
    "            # Then break loop with waiting = False\n",
    "    print(\"Thank you, your number squared is: {}\".format(num ** 2))"
   ]
  },
  {
   "cell_type": "code",
   "execution_count": 39,
   "id": "6ce43cf2",
   "metadata": {},
   "outputs": [
    {
     "name": "stdout",
     "output_type": "stream",
     "text": [
      "Input a integer:  six\n",
      "Please try again: \n",
      "\n",
      "Input a integer:  6\n",
      "Thank you, your number squared is: 36\n"
     ]
    }
   ],
   "source": [
    "ask()"
   ]
  },
  {
   "cell_type": "code",
   "execution_count": null,
   "id": "5a3b1453",
   "metadata": {},
   "outputs": [],
   "source": []
  }
 ],
 "metadata": {
  "kernelspec": {
   "display_name": "Python 3 (ipykernel)",
   "language": "python",
   "name": "python3"
  },
  "language_info": {
   "codemirror_mode": {
    "name": "ipython",
    "version": 3
   },
   "file_extension": ".py",
   "mimetype": "text/x-python",
   "name": "python",
   "nbconvert_exporter": "python",
   "pygments_lexer": "ipython3",
   "version": "3.9.13"
  }
 },
 "nbformat": 4,
 "nbformat_minor": 5
}
