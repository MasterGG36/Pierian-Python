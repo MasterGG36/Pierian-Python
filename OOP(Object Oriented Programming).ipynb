{
 "cells": [
  {
   "cell_type": "code",
   "execution_count": 1,
   "id": "5d3c00b5",
   "metadata": {},
   "outputs": [],
   "source": [
    "mylist = [1,2,3]"
   ]
  },
  {
   "cell_type": "code",
   "execution_count": 2,
   "id": "6db17eca",
   "metadata": {},
   "outputs": [],
   "source": [
    "myset = set()"
   ]
  },
  {
   "cell_type": "code",
   "execution_count": 3,
   "id": "80779375",
   "metadata": {},
   "outputs": [
    {
     "data": {
      "text/plain": [
       "set"
      ]
     },
     "execution_count": 3,
     "metadata": {},
     "output_type": "execute_result"
    }
   ],
   "source": [
    "type(myset)"
   ]
  },
  {
   "cell_type": "code",
   "execution_count": 4,
   "id": "046a93ab",
   "metadata": {},
   "outputs": [
    {
     "data": {
      "text/plain": [
       "list"
      ]
     },
     "execution_count": 4,
     "metadata": {},
     "output_type": "execute_result"
    }
   ],
   "source": [
    "type(mylist)"
   ]
  },
  {
   "cell_type": "code",
   "execution_count": 54,
   "id": "11d5fd30",
   "metadata": {},
   "outputs": [],
   "source": [
    "class Dog():\n",
    "    \n",
    "    def __init__(self,breed,name,spots):\n",
    "        \n",
    "        # Attributes\n",
    "        # We take in argument\n",
    "        # assign it using self.attribute_name\n",
    "        # Expect a string for breed & name\n",
    "        self.breed = breed\n",
    "        self.name = name\n",
    "        \n",
    "        # Expect boolean True/False\n",
    "        self.spots = spots"
   ]
  },
  {
   "cell_type": "code",
   "execution_count": 55,
   "id": "7dd8f458",
   "metadata": {},
   "outputs": [],
   "source": [
    "my_dog = Dog(breed='pitbull',name='Leo',spots=False)"
   ]
  },
  {
   "cell_type": "code",
   "execution_count": 56,
   "id": "37c8f4b4",
   "metadata": {},
   "outputs": [
    {
     "data": {
      "text/plain": [
       "__main__.Dog"
      ]
     },
     "execution_count": 56,
     "metadata": {},
     "output_type": "execute_result"
    }
   ],
   "source": [
    "type(my_dog)"
   ]
  },
  {
   "cell_type": "code",
   "execution_count": 57,
   "id": "57493fe9",
   "metadata": {},
   "outputs": [
    {
     "data": {
      "text/plain": [
       "'pitbull'"
      ]
     },
     "execution_count": 57,
     "metadata": {},
     "output_type": "execute_result"
    }
   ],
   "source": [
    "my_dog.breed"
   ]
  },
  {
   "cell_type": "code",
   "execution_count": 58,
   "id": "9d12ee0e",
   "metadata": {},
   "outputs": [
    {
     "data": {
      "text/plain": [
       "'Leo'"
      ]
     },
     "execution_count": 58,
     "metadata": {},
     "output_type": "execute_result"
    }
   ],
   "source": [
    "my_dog.name"
   ]
  },
  {
   "cell_type": "code",
   "execution_count": 59,
   "id": "f1bcdb98",
   "metadata": {
    "scrolled": true
   },
   "outputs": [
    {
     "data": {
      "text/plain": [
       "False"
      ]
     },
     "execution_count": 59,
     "metadata": {},
     "output_type": "execute_result"
    }
   ],
   "source": [
    "my_dog.spots"
   ]
  },
  {
   "cell_type": "code",
   "execution_count": 60,
   "id": "f92c83c1",
   "metadata": {},
   "outputs": [],
   "source": [
    "class Dog():\n",
    "    \n",
    "    # Class Object Attribute\n",
    "    # Same for any instance of a class\n",
    "    species = 'Mammal'\n",
    "    \n",
    "    def __init__(self,breed,name,spots):\n",
    "        \n",
    "        # Attributes\n",
    "        # We take in argument\n",
    "        # assign it using self.attribute_name\n",
    "        # Expect a string for breed & name\n",
    "        self.breed = breed\n",
    "        self.name = name\n",
    "        \n",
    "        #Expect boolean True/False\n",
    "        self.spots = spots"
   ]
  },
  {
   "cell_type": "code",
   "execution_count": 61,
   "id": "949168ff",
   "metadata": {},
   "outputs": [],
   "source": [
    "my_dog = Dog(breed='poodle',name='Carlton',spots=False)"
   ]
  },
  {
   "cell_type": "code",
   "execution_count": 62,
   "id": "a406ad21",
   "metadata": {},
   "outputs": [
    {
     "data": {
      "text/plain": [
       "__main__.Dog"
      ]
     },
     "execution_count": 62,
     "metadata": {},
     "output_type": "execute_result"
    }
   ],
   "source": [
    "type(my_dog)"
   ]
  },
  {
   "cell_type": "code",
   "execution_count": 63,
   "id": "543dc788",
   "metadata": {},
   "outputs": [
    {
     "data": {
      "text/plain": [
       "'Mammal'"
      ]
     },
     "execution_count": 63,
     "metadata": {},
     "output_type": "execute_result"
    }
   ],
   "source": [
    "# Even though we didn't define it, species pops up as an attribute\n",
    "# This will be the same no matter if you change the other attributes\n",
    "my_dog.species"
   ]
  },
  {
   "cell_type": "code",
   "execution_count": 85,
   "id": "2bd8aaa4",
   "metadata": {},
   "outputs": [],
   "source": [
    "class Dog():\n",
    "    \n",
    "    # Class Object Attribute\n",
    "    # Same for any instance of a class\n",
    "    species = 'Mammal'\n",
    "    \n",
    "    def __init__(self,breed,name):\n",
    "        \n",
    "        # Attributes\n",
    "        # We take in argument\n",
    "        # assign it using self.attribute_name\n",
    "        # Expect a string for breed & name\n",
    "        self.breed = breed\n",
    "        self.name = name\n",
    "        \n",
    "    # Methods\n",
    "    # Operations/Actions\n",
    "    def bark(self,number):\n",
    "        print(\"Salutations my good sir! My name is {} my favourite number is {}\".format(self.name,number))"
   ]
  },
  {
   "cell_type": "code",
   "execution_count": 71,
   "id": "fde17476",
   "metadata": {},
   "outputs": [],
   "source": [
    "my_dog = Dog('poodle','Lord George')"
   ]
  },
  {
   "cell_type": "code",
   "execution_count": 66,
   "id": "70bbef0e",
   "metadata": {},
   "outputs": [
    {
     "data": {
      "text/plain": [
       "<bound method Dog.bark of <__main__.Dog object at 0x10533c490>>"
      ]
     },
     "execution_count": 66,
     "metadata": {},
     "output_type": "execute_result"
    }
   ],
   "source": [
    "my_dog.bark"
   ]
  },
  {
   "cell_type": "code",
   "execution_count": 80,
   "id": "765b923f",
   "metadata": {},
   "outputs": [
    {
     "data": {
      "text/plain": [
       "'Mammal'"
      ]
     },
     "execution_count": 80,
     "metadata": {},
     "output_type": "execute_result"
    }
   ],
   "source": [
    "my_dog.species"
   ]
  },
  {
   "cell_type": "code",
   "execution_count": 81,
   "id": "10c345e6",
   "metadata": {},
   "outputs": [
    {
     "data": {
      "text/plain": [
       "'poodle'"
      ]
     },
     "execution_count": 81,
     "metadata": {},
     "output_type": "execute_result"
    }
   ],
   "source": [
    "my_dog.breed"
   ]
  },
  {
   "cell_type": "code",
   "execution_count": 86,
   "id": "70a9beee",
   "metadata": {},
   "outputs": [
    {
     "name": "stdout",
     "output_type": "stream",
     "text": [
      "Salutations my good sir! My name is Lord George my favourite number is 6\n"
     ]
    }
   ],
   "source": [
    "my_dog.bark(6)"
   ]
  },
  {
   "cell_type": "code",
   "execution_count": 111,
   "id": "b208e9d7",
   "metadata": {},
   "outputs": [],
   "source": [
    "class Cirle():\n",
    "    # Homework assignment reference\n",
    "    # Class Object Attribute\n",
    "    pi = 3.14\n",
    "    \n",
    "    def __init__(self,radius=1):\n",
    "        \n",
    "        self.radius = radius\n",
    "    \n",
    "    # Method\n",
    "    def get_circumference(self):\n",
    "        return self.radius * self.pi * 2"
   ]
  },
  {
   "cell_type": "code",
   "execution_count": 117,
   "id": "6f29d23e",
   "metadata": {},
   "outputs": [],
   "source": [
    "my_cirle = Cirle(23)"
   ]
  },
  {
   "cell_type": "code",
   "execution_count": 118,
   "id": "6e1a3261",
   "metadata": {},
   "outputs": [
    {
     "data": {
      "text/plain": [
       "3.14"
      ]
     },
     "execution_count": 118,
     "metadata": {},
     "output_type": "execute_result"
    }
   ],
   "source": [
    "my_cirle.pi"
   ]
  },
  {
   "cell_type": "code",
   "execution_count": 119,
   "id": "d25fdba1",
   "metadata": {},
   "outputs": [
    {
     "data": {
      "text/plain": [
       "23"
      ]
     },
     "execution_count": 119,
     "metadata": {},
     "output_type": "execute_result"
    }
   ],
   "source": [
    "my_cirle.radius"
   ]
  },
  {
   "cell_type": "code",
   "execution_count": 115,
   "id": "b4ab24db",
   "metadata": {},
   "outputs": [
    {
     "data": {
      "text/plain": [
       "144.44"
      ]
     },
     "execution_count": 115,
     "metadata": {},
     "output_type": "execute_result"
    }
   ],
   "source": [
    "my_cirle.get_circumference()"
   ]
  },
  {
   "cell_type": "code",
   "execution_count": 121,
   "id": "17e19b8c",
   "metadata": {},
   "outputs": [],
   "source": [
    "class Cirle():\n",
    "    \n",
    "    # Class Object Attribute\n",
    "    pi = 3.14\n",
    "    \n",
    "    def __init__(self,radius=1): # Arguments\n",
    "        \n",
    "        self.radius = radius\n",
    "        # Dont have to position argument to define an attribute\n",
    "        self.area = radius * radius * Cirle.pi # or self.pi (reference in different manners)\n",
    "    \n",
    "    # Method\n",
    "    def get_circumference(self):\n",
    "        return self.radius * self.pi * 2"
   ]
  },
  {
   "cell_type": "code",
   "execution_count": 122,
   "id": "d24938ed",
   "metadata": {},
   "outputs": [
    {
     "data": {
      "text/plain": [
       "1661.0600000000002"
      ]
     },
     "execution_count": 122,
     "metadata": {},
     "output_type": "execute_result"
    }
   ],
   "source": [
    "my_cirle.area"
   ]
  },
  {
   "cell_type": "code",
   "execution_count": 143,
   "id": "39d91055",
   "metadata": {},
   "outputs": [],
   "source": [
    "# Base Class\n",
    "\n",
    "class Animal():\n",
    "    \n",
    "    def __init__(self):\n",
    "        \n",
    "        print(\"Animal Created!\")\n",
    "        \n",
    "    def who_am_i(self):\n",
    "        \n",
    "        print(\"I am an animal\")\n",
    "        \n",
    "    def eat(self):\n",
    "        \n",
    "        print(\"I am eating\")"
   ]
  },
  {
   "cell_type": "code",
   "execution_count": 144,
   "id": "f06a3345",
   "metadata": {},
   "outputs": [
    {
     "name": "stdout",
     "output_type": "stream",
     "text": [
      "Animal Created!\n"
     ]
    }
   ],
   "source": [
    "my_animal = Animal()"
   ]
  },
  {
   "cell_type": "code",
   "execution_count": 145,
   "id": "a8c1dbbd",
   "metadata": {},
   "outputs": [
    {
     "name": "stdout",
     "output_type": "stream",
     "text": [
      "I am eating\n"
     ]
    }
   ],
   "source": [
    "my_animal.eat()"
   ]
  },
  {
   "cell_type": "code",
   "execution_count": 146,
   "id": "aea74679",
   "metadata": {},
   "outputs": [
    {
     "name": "stdout",
     "output_type": "stream",
     "text": [
      "I am an animal\n"
     ]
    }
   ],
   "source": [
    "my_animal.who_am_i()"
   ]
  },
  {
   "cell_type": "code",
   "execution_count": 154,
   "id": "bf8c6a99",
   "metadata": {},
   "outputs": [],
   "source": [
    "# Dog now inherits the attributes of Animal (Inheritance)\n",
    "\n",
    "class Dog(Animal):\n",
    "    \n",
    "    def __init__(self):\n",
    "        \n",
    "        Animal.__init__(self)\n",
    "        print(\"Dog Created!\")\n",
    "    \n",
    "    # Overwrite older methods\n",
    "    def who_am_i(self):\n",
    "        \n",
    "        print(\"I am a dog\")\n",
    "        \n",
    "    def eat(self):\n",
    "        \n",
    "        print(\"I am a dog eating\")\n",
    "        \n",
    "    # Add methods\n",
    "    def bark(self):\n",
    "        \n",
    "        print(\"Afternoon my good sir!\")"
   ]
  },
  {
   "cell_type": "code",
   "execution_count": 155,
   "id": "753b9d0f",
   "metadata": {},
   "outputs": [
    {
     "name": "stdout",
     "output_type": "stream",
     "text": [
      "Animal Created!\n",
      "Dog Created!\n"
     ]
    }
   ],
   "source": [
    "my_dog = Dog()"
   ]
  },
  {
   "cell_type": "code",
   "execution_count": 156,
   "id": "e83775d1",
   "metadata": {},
   "outputs": [
    {
     "name": "stdout",
     "output_type": "stream",
     "text": [
      "I am a dog eating\n"
     ]
    }
   ],
   "source": [
    "# All those old methods that were available for Animal are now available for Dog\n",
    "my_dog.eat()"
   ]
  },
  {
   "cell_type": "code",
   "execution_count": 157,
   "id": "b42cc43c",
   "metadata": {},
   "outputs": [
    {
     "name": "stdout",
     "output_type": "stream",
     "text": [
      "I am a dog\n"
     ]
    }
   ],
   "source": [
    "my_dog.who_am_i()"
   ]
  },
  {
   "cell_type": "code",
   "execution_count": 158,
   "id": "fc483b5b",
   "metadata": {},
   "outputs": [
    {
     "name": "stdout",
     "output_type": "stream",
     "text": [
      "I am a dog eating\n"
     ]
    }
   ],
   "source": [
    "my_dog.eat()"
   ]
  },
  {
   "cell_type": "code",
   "execution_count": 159,
   "id": "cf138bc0",
   "metadata": {},
   "outputs": [
    {
     "name": "stdout",
     "output_type": "stream",
     "text": [
      "I am a dog\n"
     ]
    }
   ],
   "source": [
    "my_dog.who_am_i()"
   ]
  },
  {
   "cell_type": "code",
   "execution_count": 160,
   "id": "910e29ae",
   "metadata": {},
   "outputs": [
    {
     "name": "stdout",
     "output_type": "stream",
     "text": [
      "I am a dog\n"
     ]
    }
   ],
   "source": [
    "my_dog.who_am_i()"
   ]
  },
  {
   "cell_type": "code",
   "execution_count": 161,
   "id": "f33ee6fd",
   "metadata": {},
   "outputs": [
    {
     "name": "stdout",
     "output_type": "stream",
     "text": [
      "Afternoon my good sir!\n"
     ]
    }
   ],
   "source": [
    "my_dog.bark()"
   ]
  },
  {
   "cell_type": "code",
   "execution_count": 1,
   "id": "dd55547b",
   "metadata": {},
   "outputs": [],
   "source": [
    "# Polymorphism\n",
    "# Dog says Woof\n",
    "class Dog():\n",
    "    \n",
    "    def __init__(self,name):\n",
    "        \n",
    "        self.name = name\n",
    "        \n",
    "    def speak(self):\n",
    "        \n",
    "        return self.name + \" Says Woof!\""
   ]
  },
  {
   "cell_type": "code",
   "execution_count": 2,
   "id": "ae6447dc",
   "metadata": {},
   "outputs": [],
   "source": [
    "# Cat says Meow\n",
    "class Cat():\n",
    "    \n",
    "    def __init__(self,name):\n",
    "        \n",
    "        self.name = name\n",
    "        \n",
    "    def speak(self):\n",
    "        \n",
    "        return self.name + \" Says Meow!\""
   ]
  },
  {
   "cell_type": "code",
   "execution_count": 3,
   "id": "623f44c3",
   "metadata": {},
   "outputs": [],
   "source": [
    "Luka = Dog(\"Luka\")\n",
    "Bella = Cat(\"Bella\")"
   ]
  },
  {
   "cell_type": "code",
   "execution_count": 4,
   "id": "f35350fe",
   "metadata": {},
   "outputs": [
    {
     "name": "stdout",
     "output_type": "stream",
     "text": [
      "Luka Says Woof!\n"
     ]
    }
   ],
   "source": [
    "print(Luka.speak())"
   ]
  },
  {
   "cell_type": "code",
   "execution_count": 5,
   "id": "53e07d57",
   "metadata": {},
   "outputs": [
    {
     "name": "stdout",
     "output_type": "stream",
     "text": [
      "Bella Says Meow!\n"
     ]
    }
   ],
   "source": [
    "print(Bella.speak())"
   ]
  },
  {
   "cell_type": "code",
   "execution_count": 6,
   "id": "9a68f28e",
   "metadata": {},
   "outputs": [
    {
     "name": "stdout",
     "output_type": "stream",
     "text": [
      "<__main__.Dog object at 0x103f6f490>\n",
      "Luka Says Woof!\n",
      "<__main__.Cat object at 0x103f6f520>\n",
      "Bella Says Meow!\n"
     ]
    }
   ],
   "source": [
    "# Iterate through this list of items\n",
    "for pet_class in [Luka,Bella]:\n",
    "    \n",
    "    print(pet_class)\n",
    "    print(pet_class.speak())\n",
    "\n",
    "# Example of polymorphism"
   ]
  },
  {
   "cell_type": "code",
   "execution_count": 7,
   "id": "0d232d23",
   "metadata": {},
   "outputs": [],
   "source": [
    "def pet_speak(pet_class):\n",
    "    \n",
    "    print(pet_class.speak())"
   ]
  },
  {
   "cell_type": "code",
   "execution_count": 8,
   "id": "a0e144ee",
   "metadata": {},
   "outputs": [
    {
     "name": "stdout",
     "output_type": "stream",
     "text": [
      "Luka Says Woof!\n"
     ]
    }
   ],
   "source": [
    "pet_speak(Luka)"
   ]
  },
  {
   "cell_type": "code",
   "execution_count": 9,
   "id": "d4c7f046",
   "metadata": {},
   "outputs": [
    {
     "name": "stdout",
     "output_type": "stream",
     "text": [
      "Bella Says Meow!\n"
     ]
    }
   ],
   "source": [
    "pet_speak(Bella)"
   ]
  },
  {
   "cell_type": "code",
   "execution_count": 10,
   "id": "495ee1b9",
   "metadata": {},
   "outputs": [],
   "source": [
    "# Abstract classes & inheritance\n",
    "\n",
    "class Animal():\n",
    "    \n",
    "    def __init__(self,name):\n",
    "        self.name = name\n",
    "        \n",
    "    def speak(self):\n",
    "        raise NotImplementedError(\"Subclass must implement this abstract method\")"
   ]
  },
  {
   "cell_type": "code",
   "execution_count": 14,
   "id": "82de3bae",
   "metadata": {},
   "outputs": [],
   "source": [
    "class Dog(Animal):\n",
    "    \n",
    "    def speak(self):\n",
    "        return self.name + \" Says Woof!\""
   ]
  },
  {
   "cell_type": "code",
   "execution_count": 15,
   "id": "1b8a3875",
   "metadata": {},
   "outputs": [],
   "source": [
    "class Cat(Animal):\n",
    "    \n",
    "    def speak(self):\n",
    "        return self.name + \" Says Meow!\""
   ]
  },
  {
   "cell_type": "code",
   "execution_count": 16,
   "id": "12f60065",
   "metadata": {},
   "outputs": [],
   "source": [
    "Nigo = Dog(\"Nigo\")"
   ]
  },
  {
   "cell_type": "code",
   "execution_count": 17,
   "id": "af929c4c",
   "metadata": {},
   "outputs": [],
   "source": [
    "Issa = Cat(\"Issa\")"
   ]
  },
  {
   "cell_type": "code",
   "execution_count": 18,
   "id": "a0ec9cec",
   "metadata": {},
   "outputs": [
    {
     "name": "stdout",
     "output_type": "stream",
     "text": [
      "Nigo Says Woof!\n"
     ]
    }
   ],
   "source": [
    "print(Nigo.speak())"
   ]
  },
  {
   "cell_type": "code",
   "execution_count": 19,
   "id": "293f2170",
   "metadata": {},
   "outputs": [
    {
     "name": "stdout",
     "output_type": "stream",
     "text": [
      "Issa Says Meow!\n"
     ]
    }
   ],
   "source": [
    "print(Issa.speak())"
   ]
  },
  {
   "cell_type": "code",
   "execution_count": 20,
   "id": "e158dae6",
   "metadata": {},
   "outputs": [],
   "source": [
    "# Special (Magic / Dunder) use of double underscores ( _ _ )\n",
    "\n",
    "mylist = [1,2,3]"
   ]
  },
  {
   "cell_type": "code",
   "execution_count": 21,
   "id": "b67bd292",
   "metadata": {},
   "outputs": [
    {
     "data": {
      "text/plain": [
       "3"
      ]
     },
     "execution_count": 21,
     "metadata": {},
     "output_type": "execute_result"
    }
   ],
   "source": [
    "len(mylist)"
   ]
  },
  {
   "cell_type": "code",
   "execution_count": 22,
   "id": "4f366d22",
   "metadata": {},
   "outputs": [],
   "source": [
    "class Sample():\n",
    "    pass"
   ]
  },
  {
   "cell_type": "code",
   "execution_count": 23,
   "id": "3cfa2f14",
   "metadata": {},
   "outputs": [],
   "source": [
    "mysample = Sample()"
   ]
  },
  {
   "cell_type": "code",
   "execution_count": 25,
   "id": "5b45d00d",
   "metadata": {},
   "outputs": [
    {
     "name": "stdout",
     "output_type": "stream",
     "text": [
      "<__main__.Sample object at 0x1062c18e0>\n"
     ]
    }
   ],
   "source": [
    "print(mysample)"
   ]
  },
  {
   "cell_type": "code",
   "execution_count": 27,
   "id": "5c438445",
   "metadata": {},
   "outputs": [
    {
     "name": "stdout",
     "output_type": "stream",
     "text": [
      "[1, 2, 3]\n"
     ]
    }
   ],
   "source": [
    "print(mylist)"
   ]
  },
  {
   "cell_type": "code",
   "execution_count": 41,
   "id": "0ea8054b",
   "metadata": {},
   "outputs": [],
   "source": [
    "class Book():\n",
    "    \n",
    "    def __init__(self,title,author,pages):\n",
    "        \n",
    "        self.title = title\n",
    "        self.author = author\n",
    "        self.pages = pages\n",
    "        \n",
    "    def __str__(self):\n",
    "        return f\"{self.title} by {self.author}\"\n",
    "    \n",
    "    def __len__(self):\n",
    "        return self.pages\n",
    "    \n",
    "    def __del__(self):\n",
    "        print(\"Luka Bates' Book Titled Lost On The Title has been deleted\")"
   ]
  },
  {
   "cell_type": "code",
   "execution_count": 42,
   "id": "e04cae03",
   "metadata": {},
   "outputs": [],
   "source": [
    "# Define my book\n",
    "b = Book('Lost On The Title','Luka Bates',300)"
   ]
  },
  {
   "cell_type": "code",
   "execution_count": 43,
   "id": "3f944069",
   "metadata": {},
   "outputs": [
    {
     "name": "stdout",
     "output_type": "stream",
     "text": [
      "Lost On The Title by Luka Bates\n"
     ]
    }
   ],
   "source": [
    "print(b)"
   ]
  },
  {
   "cell_type": "code",
   "execution_count": 44,
   "id": "87f1c814",
   "metadata": {},
   "outputs": [
    {
     "data": {
      "text/plain": [
       "'Lost On The Title by Luka Bates'"
      ]
     },
     "execution_count": 44,
     "metadata": {},
     "output_type": "execute_result"
    }
   ],
   "source": [
    "str(b)"
   ]
  },
  {
   "cell_type": "code",
   "execution_count": 45,
   "id": "5deee968",
   "metadata": {},
   "outputs": [
    {
     "data": {
      "text/plain": [
       "300"
      ]
     },
     "execution_count": 45,
     "metadata": {},
     "output_type": "execute_result"
    }
   ],
   "source": [
    "len(b)"
   ]
  },
  {
   "cell_type": "code",
   "execution_count": 46,
   "id": "54129697",
   "metadata": {},
   "outputs": [
    {
     "name": "stdout",
     "output_type": "stream",
     "text": [
      "Luka Bates' Book Titled Lost On The Title has been deleted\n"
     ]
    }
   ],
   "source": [
    "# If you wanted to delete a book\n",
    "del b"
   ]
  },
  {
   "cell_type": "code",
   "execution_count": 47,
   "id": "9f6deee9",
   "metadata": {},
   "outputs": [
    {
     "ename": "NameError",
     "evalue": "name 'b' is not defined",
     "output_type": "error",
     "traceback": [
      "\u001b[0;31m---------------------------------------------------------------------------\u001b[0m",
      "\u001b[0;31mNameError\u001b[0m                                 Traceback (most recent call last)",
      "\u001b[0;32m/var/folders/c9/nlwytfvs6tjf2sg6vj49578w0000gn/T/ipykernel_1974/1685013873.py\u001b[0m in \u001b[0;36m<module>\u001b[0;34m\u001b[0m\n\u001b[0;32m----> 1\u001b[0;31m \u001b[0mb\u001b[0m\u001b[0;34m\u001b[0m\u001b[0;34m\u001b[0m\u001b[0m\n\u001b[0m",
      "\u001b[0;31mNameError\u001b[0m: name 'b' is not defined"
     ]
    }
   ],
   "source": [
    "b"
   ]
  },
  {
   "cell_type": "code",
   "execution_count": 1,
   "id": "91ee23e8",
   "metadata": {},
   "outputs": [],
   "source": [
    "# Homework assignment\n",
    "class Line:\n",
    "    \n",
    "    def __init__(self,coor1,coor2):\n",
    "        \n",
    "        # First way, with tuble unpacking to grab individual components.\n",
    "        self.coor1 = coor1\n",
    "        self.coor2 = coor2\n",
    "        # Second way, you can give each coordinate an attribute\n",
    "    \n",
    "    def distance(self):\n",
    "        \n",
    "        x1,y1 = self.coor1\n",
    "        x2,y2 = self.coor2\n",
    "        \n",
    "        return ((x2 - x1)**2 + (y2 - y1)**2)**0.5\n",
    "    \n",
    "    def slope(self):\n",
    "        \n",
    "        x1,y1 = self.coor1\n",
    "        x2,y2 = self.coor2\n",
    "        \n",
    "        return (y2 -y1) / (x2- x1) # Rise Over Run"
   ]
  },
  {
   "cell_type": "code",
   "execution_count": 2,
   "id": "5a602e56",
   "metadata": {},
   "outputs": [],
   "source": [
    "c1 = (3,2)\n",
    "c2 = (8,10)"
   ]
  },
  {
   "cell_type": "code",
   "execution_count": 4,
   "id": "1ca0cc7a",
   "metadata": {},
   "outputs": [],
   "source": [
    "myline = Line(c1,c2)"
   ]
  },
  {
   "cell_type": "code",
   "execution_count": 5,
   "id": "9cef2e8a",
   "metadata": {},
   "outputs": [
    {
     "data": {
      "text/plain": [
       "9.433981132056603"
      ]
     },
     "execution_count": 5,
     "metadata": {},
     "output_type": "execute_result"
    }
   ],
   "source": [
    "myline.distance()"
   ]
  },
  {
   "cell_type": "code",
   "execution_count": 6,
   "id": "8980816a",
   "metadata": {},
   "outputs": [
    {
     "data": {
      "text/plain": [
       "1.6"
      ]
     },
     "execution_count": 6,
     "metadata": {},
     "output_type": "execute_result"
    }
   ],
   "source": [
    "myline.slope()"
   ]
  },
  {
   "cell_type": "code",
   "execution_count": 7,
   "id": "4dfe829d",
   "metadata": {},
   "outputs": [],
   "source": [
    "class Cylinder:\n",
    "    \n",
    "    def __init__(self,height=1,radius=1):\n",
    "        \n",
    "        self.height = height\n",
    "        self.radius = radius\n",
    "        \n",
    "    def volume(self):\n",
    "        # I need to reference the instance of the objects own(self.) height and radius.\n",
    "        return self.height * 3.14 * (self.radius)**2\n",
    "    \n",
    "    def surface_area(self):\n",
    "        \n",
    "        top = 3.14 * (self.radius**2)\n",
    "        # bottom\n",
    "        \n",
    "        return (2*top) + (2 * 3.14 * self.radius * self.height)"
   ]
  },
  {
   "cell_type": "code",
   "execution_count": 8,
   "id": "c836192d",
   "metadata": {},
   "outputs": [],
   "source": [
    "mycylinder = Cylinder(2,3)"
   ]
  },
  {
   "cell_type": "code",
   "execution_count": 9,
   "id": "9a8bd641",
   "metadata": {},
   "outputs": [
    {
     "data": {
      "text/plain": [
       "56.52"
      ]
     },
     "execution_count": 9,
     "metadata": {},
     "output_type": "execute_result"
    }
   ],
   "source": [
    "mycylinder.volume()"
   ]
  },
  {
   "cell_type": "code",
   "execution_count": 10,
   "id": "93b1521d",
   "metadata": {},
   "outputs": [
    {
     "data": {
      "text/plain": [
       "94.2"
      ]
     },
     "execution_count": 10,
     "metadata": {},
     "output_type": "execute_result"
    }
   ],
   "source": [
    "mycylinder.surface_area()"
   ]
  },
  {
   "cell_type": "code",
   "execution_count": 11,
   "id": "1dfa116d",
   "metadata": {},
   "outputs": [],
   "source": [
    "class Account():\n",
    "    \n",
    "    def __init__(self,owner,balance):\n",
    "        \n",
    "        self.owner = owner\n",
    "        self.balance = balance\n",
    "        \n",
    "    def deposit(self,deposit_amount):\n",
    "        \n",
    "        # self.balance += deposit_amount\n",
    "        self.balance = self.balance + deposit_amount\n",
    "        # Can use either f string literal or .format\n",
    "        print(\"Added {} to the balance\".format(deposit_amount))\n",
    "        \n",
    "    def withdrawal(self,withdrawal_amount):\n",
    "        \n",
    "        if self.balance >= withdrawal_amount:\n",
    "            # self.balance -= withdrawal_amount\n",
    "            self.balance = self.balance - withdrawal_amount\n",
    "            print(\"Withdrawal Accepted\")\n",
    "        else:\n",
    "            print(\"Sorry, Insuffiecient Funds. Please make a deposit\")\n",
    "            \n",
    "    def __str__(self):\n",
    "        return f\"Owner: {self.owner} \\nBalance: {self.balance}\""
   ]
  },
  {
   "cell_type": "code",
   "execution_count": 12,
   "id": "9f970eb9",
   "metadata": {},
   "outputs": [],
   "source": [
    "myaccount = Account(\"Luka Bates\", 1000000000)"
   ]
  },
  {
   "cell_type": "code",
   "execution_count": 13,
   "id": "4fbab26e",
   "metadata": {},
   "outputs": [
    {
     "data": {
      "text/plain": [
       "'Luka Bates'"
      ]
     },
     "execution_count": 13,
     "metadata": {},
     "output_type": "execute_result"
    }
   ],
   "source": [
    "myaccount.owner"
   ]
  },
  {
   "cell_type": "code",
   "execution_count": 14,
   "id": "02a7d8e0",
   "metadata": {},
   "outputs": [
    {
     "data": {
      "text/plain": [
       "1000000000"
      ]
     },
     "execution_count": 14,
     "metadata": {},
     "output_type": "execute_result"
    }
   ],
   "source": [
    "myaccount.balance"
   ]
  },
  {
   "cell_type": "code",
   "execution_count": 15,
   "id": "7e170387",
   "metadata": {},
   "outputs": [
    {
     "name": "stdout",
     "output_type": "stream",
     "text": [
      "Owner: Luka Bates \n",
      "Balance: 1000000000\n"
     ]
    }
   ],
   "source": [
    "print(myaccount)"
   ]
  },
  {
   "cell_type": "code",
   "execution_count": 16,
   "id": "a3f4c1af",
   "metadata": {},
   "outputs": [
    {
     "name": "stdout",
     "output_type": "stream",
     "text": [
      "Added 3000 to the balance\n"
     ]
    }
   ],
   "source": [
    "myaccount.deposit(3000)"
   ]
  },
  {
   "cell_type": "code",
   "execution_count": 17,
   "id": "80fc6efc",
   "metadata": {},
   "outputs": [
    {
     "name": "stdout",
     "output_type": "stream",
     "text": [
      "Owner: Luka Bates \n",
      "Balance: 1000003000\n"
     ]
    }
   ],
   "source": [
    "print(myaccount)"
   ]
  },
  {
   "cell_type": "code",
   "execution_count": 18,
   "id": "c56e43f7",
   "metadata": {},
   "outputs": [
    {
     "name": "stdout",
     "output_type": "stream",
     "text": [
      "Withdrawal Accepted\n"
     ]
    }
   ],
   "source": [
    "myaccount.withdrawal(666)"
   ]
  },
  {
   "cell_type": "code",
   "execution_count": 19,
   "id": "d4493e42",
   "metadata": {},
   "outputs": [
    {
     "name": "stdout",
     "output_type": "stream",
     "text": [
      "Owner: Luka Bates \n",
      "Balance: 1000002334\n"
     ]
    }
   ],
   "source": [
    "print(myaccount)"
   ]
  },
  {
   "cell_type": "code",
   "execution_count": 20,
   "id": "28ddcd37",
   "metadata": {},
   "outputs": [
    {
     "name": "stdout",
     "output_type": "stream",
     "text": [
      "Sorry, Insuffiecient Funds. Please make a deposit\n"
     ]
    }
   ],
   "source": [
    "myaccount.withdrawal(1100000000)"
   ]
  },
  {
   "cell_type": "code",
   "execution_count": 21,
   "id": "cd750edd",
   "metadata": {},
   "outputs": [
    {
     "name": "stdout",
     "output_type": "stream",
     "text": [
      "Owner: Luka Bates \n",
      "Balance: 1000002334\n"
     ]
    }
   ],
   "source": [
    "print(myaccount)"
   ]
  },
  {
   "cell_type": "code",
   "execution_count": null,
   "id": "9ae0b01e",
   "metadata": {},
   "outputs": [],
   "source": []
  }
 ],
 "metadata": {
  "kernelspec": {
   "display_name": "Python 3 (ipykernel)",
   "language": "python",
   "name": "python3"
  },
  "language_info": {
   "codemirror_mode": {
    "name": "ipython",
    "version": 3
   },
   "file_extension": ".py",
   "mimetype": "text/x-python",
   "name": "python",
   "nbconvert_exporter": "python",
   "pygments_lexer": "ipython3",
   "version": "3.9.13"
  }
 },
 "nbformat": 4,
 "nbformat_minor": 5
}
