{
 "cells": [
  {
   "cell_type": "code",
   "execution_count": 1,
   "id": "e174d70c",
   "metadata": {},
   "outputs": [],
   "source": [
    "# Creating our own generator.\n",
    "def create_cubes(n): \n",
    "    # What this function does is that its going to create a list of cubes from 0 to n.\n",
    "    result = []\n",
    "    for x in range(n):\n",
    "        result.append(x**3)\n",
    "    return result"
   ]
  },
  {
   "cell_type": "code",
   "execution_count": 2,
   "id": "392c6c99",
   "metadata": {},
   "outputs": [
    {
     "data": {
      "text/plain": [
       "[0, 1, 8, 27, 64, 125, 216, 343, 512, 729]"
      ]
     },
     "execution_count": 2,
     "metadata": {},
     "output_type": "execute_result"
    }
   ],
   "source": [
    "# If i want to create cubes up to 10\n",
    "create_cubes(10)"
   ]
  },
  {
   "cell_type": "code",
   "execution_count": 3,
   "id": "2de04144",
   "metadata": {},
   "outputs": [
    {
     "name": "stdout",
     "output_type": "stream",
     "text": [
      "0\n",
      "1\n",
      "8\n",
      "27\n",
      "64\n",
      "125\n",
      "216\n",
      "343\n",
      "512\n",
      "729\n"
     ]
    }
   ],
   "source": [
    "for x in create_cubes(10):\n",
    "    print(x)"
   ]
  },
  {
   "cell_type": "code",
   "execution_count": 4,
   "id": "b25124c7",
   "metadata": {},
   "outputs": [],
   "source": [
    "def create_cubes(n): \n",
    "    # Not going to store this in memory.\n",
    "    # result = []\n",
    "    for x in range(n):\n",
    "        yield x**3\n",
    "    # Instead of returning result"
   ]
  },
  {
   "cell_type": "code",
   "execution_count": 5,
   "id": "686a8820",
   "metadata": {},
   "outputs": [
    {
     "name": "stdout",
     "output_type": "stream",
     "text": [
      "0\n",
      "1\n",
      "8\n",
      "27\n",
      "64\n",
      "125\n",
      "216\n",
      "343\n",
      "512\n",
      "729\n"
     ]
    }
   ],
   "source": [
    "# Same results. More memory effiecient\n",
    "for x in create_cubes(10):\n",
    "    print(x)"
   ]
  },
  {
   "cell_type": "code",
   "execution_count": 6,
   "id": "8da4563e",
   "metadata": {},
   "outputs": [],
   "source": [
    "# Create another which calculates a Fibonacci Sequence\n",
    "def gen_fibonacci(n): # Its going to generate up to n.\n",
    "    \n",
    "    a = 1\n",
    "    b = 1\n",
    "    for i in range(n):\n",
    "        yield a\n",
    "        a,b = b,a+b # Avoid issues trying to reassign (a = , b =) while they still being played around with."
   ]
  },
  {
   "cell_type": "code",
   "execution_count": 10,
   "id": "f3feb064",
   "metadata": {},
   "outputs": [
    {
     "name": "stdout",
     "output_type": "stream",
     "text": [
      "1\n",
      "1\n",
      "2\n",
      "3\n",
      "5\n",
      "8\n",
      "13\n",
      "21\n",
      "34\n",
      "55\n"
     ]
    }
   ],
   "source": [
    "for number in gen_fibonacci(10):\n",
    "    print(number)"
   ]
  },
  {
   "cell_type": "code",
   "execution_count": 11,
   "id": "5230257c",
   "metadata": {},
   "outputs": [],
   "source": [
    "# Difference in a normal function Fibonacci.\n",
    "def gen_fibonacci(n): # Its going to generate up to n.\n",
    "    \n",
    "    a = 1\n",
    "    b = 1\n",
    "    output = [] # assign empty list\n",
    "    \n",
    "    for i in range(n):\n",
    "        output.append(a) \n",
    "        a,b = b,a+b \n",
    "    return output # Then we would have to return the actual output"
   ]
  },
  {
   "cell_type": "code",
   "execution_count": 12,
   "id": "394a3160",
   "metadata": {},
   "outputs": [
    {
     "name": "stdout",
     "output_type": "stream",
     "text": [
      "1\n",
      "1\n",
      "2\n",
      "3\n",
      "5\n",
      "8\n",
      "13\n",
      "21\n",
      "34\n",
      "55\n"
     ]
    }
   ],
   "source": [
    "# Looks the same, but way less memory efficient\n",
    "for number in gen_fibonacci(10):\n",
    "    print(number)"
   ]
  },
  {
   "cell_type": "code",
   "execution_count": 21,
   "id": "3cbe4107",
   "metadata": {},
   "outputs": [],
   "source": [
    "def simple_gen():\n",
    "    for x in range(3):\n",
    "        yield x"
   ]
  },
  {
   "cell_type": "code",
   "execution_count": 22,
   "id": "9c3526ce",
   "metadata": {},
   "outputs": [
    {
     "name": "stdout",
     "output_type": "stream",
     "text": [
      "0\n",
      "1\n",
      "2\n"
     ]
    }
   ],
   "source": [
    "for num in simple_gen():\n",
    "    print(num)"
   ]
  },
  {
   "cell_type": "code",
   "execution_count": 23,
   "id": "39c3701b",
   "metadata": {},
   "outputs": [],
   "source": [
    "# lets now assign G as the new instance of simple_gen()\n",
    "G = simple_gen()"
   ]
  },
  {
   "cell_type": "code",
   "execution_count": 24,
   "id": "2aed9fec",
   "metadata": {},
   "outputs": [
    {
     "data": {
      "text/plain": [
       "<generator object simple_gen at 0x10dbbd5f0>"
      ]
     },
     "execution_count": 24,
     "metadata": {},
     "output_type": "execute_result"
    }
   ],
   "source": [
    "# And lets take a look at G\n",
    "G"
   ]
  },
  {
   "cell_type": "code",
   "execution_count": 25,
   "id": "ae6b7b0d",
   "metadata": {},
   "outputs": [
    {
     "name": "stdout",
     "output_type": "stream",
     "text": [
      "0\n"
     ]
    }
   ],
   "source": [
    "# I can ask for the next G\n",
    "print(next(G))"
   ]
  },
  {
   "cell_type": "code",
   "execution_count": 26,
   "id": "184ac069",
   "metadata": {},
   "outputs": [
    {
     "name": "stdout",
     "output_type": "stream",
     "text": [
      "1\n"
     ]
    }
   ],
   "source": [
    "# And another\n",
    "print(next(G))"
   ]
  },
  {
   "cell_type": "code",
   "execution_count": 27,
   "id": "525ebc75",
   "metadata": {},
   "outputs": [
    {
     "name": "stdout",
     "output_type": "stream",
     "text": [
      "2\n"
     ]
    }
   ],
   "source": [
    "print(next(G))"
   ]
  },
  {
   "cell_type": "code",
   "execution_count": 28,
   "id": "d7e09745",
   "metadata": {},
   "outputs": [
    {
     "ename": "StopIteration",
     "evalue": "",
     "output_type": "error",
     "traceback": [
      "\u001b[0;31m---------------------------------------------------------------------------\u001b[0m",
      "\u001b[0;31mStopIteration\u001b[0m                             Traceback (most recent call last)",
      "\u001b[0;32m/var/folders/c9/nlwytfvs6tjf2sg6vj49578w0000gn/T/ipykernel_9781/2477485361.py\u001b[0m in \u001b[0;36m<module>\u001b[0;34m\u001b[0m\n\u001b[0;32m----> 1\u001b[0;31m \u001b[0mprint\u001b[0m\u001b[0;34m(\u001b[0m\u001b[0mnext\u001b[0m\u001b[0;34m(\u001b[0m\u001b[0mG\u001b[0m\u001b[0;34m)\u001b[0m\u001b[0;34m)\u001b[0m\u001b[0;34m\u001b[0m\u001b[0;34m\u001b[0m\u001b[0m\n\u001b[0m",
      "\u001b[0;31mStopIteration\u001b[0m: "
     ]
    }
   ],
   "source": [
    "# Now you will see a stop iteration error. What this error does is it informs us that all the values have been yielded.\n",
    "print(next(G))"
   ]
  },
  {
   "cell_type": "code",
   "execution_count": 29,
   "id": "74f46d7e",
   "metadata": {},
   "outputs": [],
   "source": [
    "# Note: A for loop actually catches this error and stops calling next."
   ]
  },
  {
   "cell_type": "code",
   "execution_count": 30,
   "id": "ab89c9fb",
   "metadata": {},
   "outputs": [],
   "source": [
    "# Iter(): allows us to automatically iterate through a normal object that you may not expect.\n",
    "\n",
    "s = 'Slime'"
   ]
  },
  {
   "cell_type": "code",
   "execution_count": 31,
   "id": "00da5707",
   "metadata": {},
   "outputs": [
    {
     "name": "stdout",
     "output_type": "stream",
     "text": [
      "S\n",
      "l\n",
      "i\n",
      "m\n",
      "e\n"
     ]
    }
   ],
   "source": [
    "for letter in s:\n",
    "    print(letter)"
   ]
  },
  {
   "cell_type": "code",
   "execution_count": 32,
   "id": "0a936ece",
   "metadata": {},
   "outputs": [
    {
     "ename": "TypeError",
     "evalue": "'str' object is not an iterator",
     "output_type": "error",
     "traceback": [
      "\u001b[0;31m---------------------------------------------------------------------------\u001b[0m",
      "\u001b[0;31mTypeError\u001b[0m                                 Traceback (most recent call last)",
      "\u001b[0;32m/var/folders/c9/nlwytfvs6tjf2sg6vj49578w0000gn/T/ipykernel_9781/1977886155.py\u001b[0m in \u001b[0;36m<module>\u001b[0;34m\u001b[0m\n\u001b[0;32m----> 1\u001b[0;31m \u001b[0mnext\u001b[0m\u001b[0;34m(\u001b[0m\u001b[0ms\u001b[0m\u001b[0;34m)\u001b[0m\u001b[0;34m\u001b[0m\u001b[0;34m\u001b[0m\u001b[0m\n\u001b[0m",
      "\u001b[0;31mTypeError\u001b[0m: 'str' object is not an iterator"
     ]
    }
   ],
   "source": [
    "next(s)"
   ]
  },
  {
   "cell_type": "code",
   "execution_count": 33,
   "id": "c53bcfa9",
   "metadata": {},
   "outputs": [],
   "source": [
    "# Error says: Hey this string object is not a iterator. The string object does support iteration becuase we went through a for loop on it.\n",
    "# But we cannot directly iterate over it, just like we did with a generator using the next()"
   ]
  },
  {
   "cell_type": "code",
   "execution_count": 34,
   "id": "c209496d",
   "metadata": {},
   "outputs": [],
   "source": [
    "# In order to do that\n",
    "s_iter = iter(s)"
   ]
  },
  {
   "cell_type": "code",
   "execution_count": 35,
   "id": "6c25d663",
   "metadata": {},
   "outputs": [
    {
     "data": {
      "text/plain": [
       "'S'"
      ]
     },
     "execution_count": 35,
     "metadata": {},
     "output_type": "execute_result"
    }
   ],
   "source": [
    "next(s_iter)"
   ]
  },
  {
   "cell_type": "code",
   "execution_count": 37,
   "id": "41885889",
   "metadata": {},
   "outputs": [
    {
     "data": {
      "text/plain": [
       "'l'"
      ]
     },
     "execution_count": 37,
     "metadata": {},
     "output_type": "execute_result"
    }
   ],
   "source": [
    "next(s_iter)"
   ]
  },
  {
   "cell_type": "code",
   "execution_count": 38,
   "id": "9732a884",
   "metadata": {},
   "outputs": [
    {
     "data": {
      "text/plain": [
       "'i'"
      ]
     },
     "execution_count": 38,
     "metadata": {},
     "output_type": "execute_result"
    }
   ],
   "source": [
    "next(s_iter)"
   ]
  },
  {
   "cell_type": "code",
   "execution_count": 39,
   "id": "b74d8bf4",
   "metadata": {},
   "outputs": [
    {
     "data": {
      "text/plain": [
       "'m'"
      ]
     },
     "execution_count": 39,
     "metadata": {},
     "output_type": "execute_result"
    }
   ],
   "source": [
    "next(s_iter)"
   ]
  },
  {
   "cell_type": "code",
   "execution_count": 40,
   "id": "e9de776f",
   "metadata": {},
   "outputs": [
    {
     "data": {
      "text/plain": [
       "'e'"
      ]
     },
     "execution_count": 40,
     "metadata": {},
     "output_type": "execute_result"
    }
   ],
   "source": [
    "next(s_iter)"
   ]
  },
  {
   "cell_type": "code",
   "execution_count": null,
   "id": "dd689b01",
   "metadata": {},
   "outputs": [],
   "source": [
    "# Now I know how to convert objects that are iterable into iterators themselves.\n",
    "# Note: yeild"
   ]
  }
 ],
 "metadata": {
  "kernelspec": {
   "display_name": "Python 3 (ipykernel)",
   "language": "python",
   "name": "python3"
  },
  "language_info": {
   "codemirror_mode": {
    "name": "ipython",
    "version": 3
   },
   "file_extension": ".py",
   "mimetype": "text/x-python",
   "name": "python",
   "nbconvert_exporter": "python",
   "pygments_lexer": "ipython3",
   "version": "3.9.13"
  }
 },
 "nbformat": 4,
 "nbformat_minor": 5
}
